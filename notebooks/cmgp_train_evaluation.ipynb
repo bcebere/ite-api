{
 "cells": [
  {
   "cell_type": "markdown",
   "metadata": {},
   "source": [
    "## CMGP: Train and Evaluation"
   ]
  },
  {
   "cell_type": "markdown",
   "metadata": {},
   "source": [
    "This notebook presents the solution for training and evaluating CMGP.\n",
    "\n",
    "The implementation of CMGP is adapted in the local `ite` library.\n",
    "\n",
    "First, make sure that all the depends are installed.\n",
    "```\n",
    "pip install -r requirements.txt\n",
    "pip install .\n",
    "```"
   ]
  },
  {
   "cell_type": "markdown",
   "metadata": {},
   "source": [
    "### Setup\n",
    "\n",
    "First, we import all the dependencies necessary for the task."
   ]
  },
  {
   "cell_type": "code",
   "execution_count": 5,
   "metadata": {},
   "outputs": [
    {
     "name": "stdout",
     "output_type": "stream",
     "text": [
      "/home/bcebere/anaconda3/envs/cambridge/bin/python\n"
     ]
    }
   ],
   "source": [
    "# Double check that we are using the correct interpreter.\n",
    "import sys\n",
    "print(sys.executable)\n",
    "    \n",
    "# Import depends\n",
    "import ite.algs.causal_multitask_gaussian_processes.model as alg\n",
    "import ite.datasets as ds\n",
    "import ite.utils.numpy as utils\n",
    "import numpy as np\n",
    "\n",
    "from matplotlib import pyplot as plt"
   ]
  },
  {
   "cell_type": "markdown",
   "metadata": {},
   "source": [
    "### Load the Dataset\n",
    "\n",
    "For CGMP, we have to downsample to 1000 training items."
   ]
  },
  {
   "cell_type": "code",
   "execution_count": 2,
   "metadata": {},
   "outputs": [],
   "source": [
    "train_ratio = 0.8\n",
    " \n",
    "[Train_X, Train_T, Train_Y, Opt_Train_Y, Test_X, Test_Y] = ds.load(\"twins\", train_ratio, downsample=1000)"
   ]
  },
  {
   "cell_type": "markdown",
   "metadata": {},
   "source": [
    "### Load the model"
   ]
  },
  {
   "cell_type": "code",
   "execution_count": 5,
   "metadata": {},
   "outputs": [],
   "source": [
    "model = alg.CMGP(\n",
    "    dim=dim,\n",
    "    dim_outcome=dim_outcome,\n",
    "    max_gp_iterations=50,\n",
    ")\n",
    "\n",
    "assert model is not None"
   ]
  },
  {
   "cell_type": "markdown",
   "metadata": {},
   "source": [
    "### Run experiments"
   ]
  },
  {
   "cell_type": "code",
   "execution_count": 3,
   "metadata": {},
   "outputs": [
    {
     "name": "stderr",
     "output_type": "stream",
     "text": [
      " /home/bcebere/anaconda3/envs/cambridge/lib/python3.8/site-packages/ite/algs/causal_multitask_gaussian_processes/model.py:221: SettingWithCopyWarning:\n",
      "A value is trying to be set on a copy of a slice from a DataFrame.\n",
      "Try using .loc[row_indexer,col_indexer] = value instead\n",
      "\n",
      "See the caveats in the documentation: https://pandas.pydata.org/pandas-docs/stable/user_guide/indexing.html#returning-a-view-versus-a-copy\n",
      " /home/bcebere/anaconda3/envs/cambridge/lib/python3.8/site-packages/ite/algs/causal_multitask_gaussian_processes/model.py:222: SettingWithCopyWarning:\n",
      "A value is trying to be set on a copy of a slice from a DataFrame.\n",
      "Try using .loc[row_indexer,col_indexer] = value instead\n",
      "\n",
      "See the caveats in the documentation: https://pandas.pydata.org/pandas-docs/stable/user_guide/indexing.html#returning-a-view-versus-a-copy\n",
      " /home/bcebere/anaconda3/envs/cambridge/lib/python3.8/site-packages/ite/algs/causal_multitask_gaussian_processes/model.py:223: SettingWithCopyWarning:\n",
      "A value is trying to be set on a copy of a slice from a DataFrame.\n",
      "Try using .loc[row_indexer,col_indexer] = value instead\n",
      "\n",
      "See the caveats in the documentation: https://pandas.pydata.org/pandas-docs/stable/user_guide/indexing.html#returning-a-view-versus-a-copy\n",
      " /home/bcebere/anaconda3/envs/cambridge/lib/python3.8/site-packages/ite/algs/causal_multitask_gaussian_processes/model.py:224: SettingWithCopyWarning:\n",
      "A value is trying to be set on a copy of a slice from a DataFrame.\n",
      "Try using .loc[row_indexer,col_indexer] = value instead\n",
      "\n",
      "See the caveats in the documentation: https://pandas.pydata.org/pandas-docs/stable/user_guide/indexing.html#returning-a-view-versus-a-copy\n"
     ]
    },
    {
     "data": {
      "application/vnd.jupyter.widget-view+json": {
       "model_id": "3666bc8f4d384649a347ee4570308d3d",
       "version_major": 2,
       "version_minor": 0
      },
      "text/plain": [
       "HBox(children=(VBox(children=(IntProgress(value=0, max=50), HTML(value=''))), Box(children=(HTML(value=''),)))…"
      ]
     },
     "metadata": {},
     "output_type": "display_data"
    },
    {
     "name": "stdout",
     "output_type": "stream",
     "text": [
      "Loss_sqrt_PEHE_Out: 0.2942\n",
      "Loss_ATE_Out: 0.002418\n",
      "\n"
     ]
    },
    {
     "name": "stderr",
     "output_type": "stream",
     "text": [
      " /home/bcebere/anaconda3/envs/cambridge/lib/python3.8/site-packages/ite/algs/causal_multitask_gaussian_processes/model.py:221: SettingWithCopyWarning:\n",
      "A value is trying to be set on a copy of a slice from a DataFrame.\n",
      "Try using .loc[row_indexer,col_indexer] = value instead\n",
      "\n",
      "See the caveats in the documentation: https://pandas.pydata.org/pandas-docs/stable/user_guide/indexing.html#returning-a-view-versus-a-copy\n",
      " /home/bcebere/anaconda3/envs/cambridge/lib/python3.8/site-packages/ite/algs/causal_multitask_gaussian_processes/model.py:222: SettingWithCopyWarning:\n",
      "A value is trying to be set on a copy of a slice from a DataFrame.\n",
      "Try using .loc[row_indexer,col_indexer] = value instead\n",
      "\n",
      "See the caveats in the documentation: https://pandas.pydata.org/pandas-docs/stable/user_guide/indexing.html#returning-a-view-versus-a-copy\n",
      " /home/bcebere/anaconda3/envs/cambridge/lib/python3.8/site-packages/ite/algs/causal_multitask_gaussian_processes/model.py:223: SettingWithCopyWarning:\n",
      "A value is trying to be set on a copy of a slice from a DataFrame.\n",
      "Try using .loc[row_indexer,col_indexer] = value instead\n",
      "\n",
      "See the caveats in the documentation: https://pandas.pydata.org/pandas-docs/stable/user_guide/indexing.html#returning-a-view-versus-a-copy\n",
      " /home/bcebere/anaconda3/envs/cambridge/lib/python3.8/site-packages/ite/algs/causal_multitask_gaussian_processes/model.py:224: SettingWithCopyWarning:\n",
      "A value is trying to be set on a copy of a slice from a DataFrame.\n",
      "Try using .loc[row_indexer,col_indexer] = value instead\n",
      "\n",
      "See the caveats in the documentation: https://pandas.pydata.org/pandas-docs/stable/user_guide/indexing.html#returning-a-view-versus-a-copy\n"
     ]
    },
    {
     "data": {
      "application/vnd.jupyter.widget-view+json": {
       "model_id": "a67a7072922d4c63820562f23c95f3fd",
       "version_major": 2,
       "version_minor": 0
      },
      "text/plain": [
       "HBox(children=(VBox(children=(IntProgress(value=0, max=50), HTML(value=''))), Box(children=(HTML(value=''),)))…"
      ]
     },
     "metadata": {},
     "output_type": "display_data"
    },
    {
     "name": "stdout",
     "output_type": "stream",
     "text": [
      "Loss_sqrt_PEHE_Out: 0.303\n",
      "Loss_ATE_Out: 0.02899\n",
      "\n"
     ]
    },
    {
     "name": "stderr",
     "output_type": "stream",
     "text": [
      " /home/bcebere/anaconda3/envs/cambridge/lib/python3.8/site-packages/ite/algs/causal_multitask_gaussian_processes/model.py:221: SettingWithCopyWarning:\n",
      "A value is trying to be set on a copy of a slice from a DataFrame.\n",
      "Try using .loc[row_indexer,col_indexer] = value instead\n",
      "\n",
      "See the caveats in the documentation: https://pandas.pydata.org/pandas-docs/stable/user_guide/indexing.html#returning-a-view-versus-a-copy\n",
      " /home/bcebere/anaconda3/envs/cambridge/lib/python3.8/site-packages/ite/algs/causal_multitask_gaussian_processes/model.py:222: SettingWithCopyWarning:\n",
      "A value is trying to be set on a copy of a slice from a DataFrame.\n",
      "Try using .loc[row_indexer,col_indexer] = value instead\n",
      "\n",
      "See the caveats in the documentation: https://pandas.pydata.org/pandas-docs/stable/user_guide/indexing.html#returning-a-view-versus-a-copy\n",
      " /home/bcebere/anaconda3/envs/cambridge/lib/python3.8/site-packages/ite/algs/causal_multitask_gaussian_processes/model.py:223: SettingWithCopyWarning:\n",
      "A value is trying to be set on a copy of a slice from a DataFrame.\n",
      "Try using .loc[row_indexer,col_indexer] = value instead\n",
      "\n",
      "See the caveats in the documentation: https://pandas.pydata.org/pandas-docs/stable/user_guide/indexing.html#returning-a-view-versus-a-copy\n",
      " /home/bcebere/anaconda3/envs/cambridge/lib/python3.8/site-packages/ite/algs/causal_multitask_gaussian_processes/model.py:224: SettingWithCopyWarning:\n",
      "A value is trying to be set on a copy of a slice from a DataFrame.\n",
      "Try using .loc[row_indexer,col_indexer] = value instead\n",
      "\n",
      "See the caveats in the documentation: https://pandas.pydata.org/pandas-docs/stable/user_guide/indexing.html#returning-a-view-versus-a-copy\n"
     ]
    },
    {
     "data": {
      "application/vnd.jupyter.widget-view+json": {
       "model_id": "dd77ab969cf44cbe893ac8e4e13a9a4a",
       "version_major": 2,
       "version_minor": 0
      },
      "text/plain": [
       "HBox(children=(VBox(children=(IntProgress(value=0, max=50), HTML(value=''))), Box(children=(HTML(value=''),)))…"
      ]
     },
     "metadata": {},
     "output_type": "display_data"
    },
    {
     "name": "stdout",
     "output_type": "stream",
     "text": [
      "Loss_sqrt_PEHE_Out: 0.2811\n",
      "Loss_ATE_Out: 0.04761\n",
      "\n"
     ]
    },
    {
     "name": "stderr",
     "output_type": "stream",
     "text": [
      " /home/bcebere/anaconda3/envs/cambridge/lib/python3.8/site-packages/ite/algs/causal_multitask_gaussian_processes/model.py:221: SettingWithCopyWarning:\n",
      "A value is trying to be set on a copy of a slice from a DataFrame.\n",
      "Try using .loc[row_indexer,col_indexer] = value instead\n",
      "\n",
      "See the caveats in the documentation: https://pandas.pydata.org/pandas-docs/stable/user_guide/indexing.html#returning-a-view-versus-a-copy\n",
      " /home/bcebere/anaconda3/envs/cambridge/lib/python3.8/site-packages/ite/algs/causal_multitask_gaussian_processes/model.py:222: SettingWithCopyWarning:\n",
      "A value is trying to be set on a copy of a slice from a DataFrame.\n",
      "Try using .loc[row_indexer,col_indexer] = value instead\n",
      "\n",
      "See the caveats in the documentation: https://pandas.pydata.org/pandas-docs/stable/user_guide/indexing.html#returning-a-view-versus-a-copy\n",
      " /home/bcebere/anaconda3/envs/cambridge/lib/python3.8/site-packages/ite/algs/causal_multitask_gaussian_processes/model.py:223: SettingWithCopyWarning:\n",
      "A value is trying to be set on a copy of a slice from a DataFrame.\n",
      "Try using .loc[row_indexer,col_indexer] = value instead\n",
      "\n",
      "See the caveats in the documentation: https://pandas.pydata.org/pandas-docs/stable/user_guide/indexing.html#returning-a-view-versus-a-copy\n",
      " /home/bcebere/anaconda3/envs/cambridge/lib/python3.8/site-packages/ite/algs/causal_multitask_gaussian_processes/model.py:224: SettingWithCopyWarning:\n",
      "A value is trying to be set on a copy of a slice from a DataFrame.\n",
      "Try using .loc[row_indexer,col_indexer] = value instead\n",
      "\n",
      "See the caveats in the documentation: https://pandas.pydata.org/pandas-docs/stable/user_guide/indexing.html#returning-a-view-versus-a-copy\n"
     ]
    },
    {
     "data": {
      "application/vnd.jupyter.widget-view+json": {
       "model_id": "d7660fe2ed40428eba419bc5b01a48da",
       "version_major": 2,
       "version_minor": 0
      },
      "text/plain": [
       "HBox(children=(VBox(children=(IntProgress(value=0, max=50), HTML(value=''))), Box(children=(HTML(value=''),)))…"
      ]
     },
     "metadata": {},
     "output_type": "display_data"
    },
    {
     "name": "stdout",
     "output_type": "stream",
     "text": [
      "Loss_sqrt_PEHE_Out: 0.2624\n",
      "Loss_ATE_Out: 0.02124\n",
      "\n"
     ]
    },
    {
     "name": "stderr",
     "output_type": "stream",
     "text": [
      " /home/bcebere/anaconda3/envs/cambridge/lib/python3.8/site-packages/ite/algs/causal_multitask_gaussian_processes/model.py:221: SettingWithCopyWarning:\n",
      "A value is trying to be set on a copy of a slice from a DataFrame.\n",
      "Try using .loc[row_indexer,col_indexer] = value instead\n",
      "\n",
      "See the caveats in the documentation: https://pandas.pydata.org/pandas-docs/stable/user_guide/indexing.html#returning-a-view-versus-a-copy\n",
      " /home/bcebere/anaconda3/envs/cambridge/lib/python3.8/site-packages/ite/algs/causal_multitask_gaussian_processes/model.py:222: SettingWithCopyWarning:\n",
      "A value is trying to be set on a copy of a slice from a DataFrame.\n",
      "Try using .loc[row_indexer,col_indexer] = value instead\n",
      "\n",
      "See the caveats in the documentation: https://pandas.pydata.org/pandas-docs/stable/user_guide/indexing.html#returning-a-view-versus-a-copy\n",
      " /home/bcebere/anaconda3/envs/cambridge/lib/python3.8/site-packages/ite/algs/causal_multitask_gaussian_processes/model.py:223: SettingWithCopyWarning:\n",
      "A value is trying to be set on a copy of a slice from a DataFrame.\n",
      "Try using .loc[row_indexer,col_indexer] = value instead\n",
      "\n",
      "See the caveats in the documentation: https://pandas.pydata.org/pandas-docs/stable/user_guide/indexing.html#returning-a-view-versus-a-copy\n",
      " /home/bcebere/anaconda3/envs/cambridge/lib/python3.8/site-packages/ite/algs/causal_multitask_gaussian_processes/model.py:224: SettingWithCopyWarning:\n",
      "A value is trying to be set on a copy of a slice from a DataFrame.\n",
      "Try using .loc[row_indexer,col_indexer] = value instead\n",
      "\n",
      "See the caveats in the documentation: https://pandas.pydata.org/pandas-docs/stable/user_guide/indexing.html#returning-a-view-versus-a-copy\n"
     ]
    },
    {
     "data": {
      "application/vnd.jupyter.widget-view+json": {
       "model_id": "cc038e44e95e427a880887b40c4d0d48",
       "version_major": 2,
       "version_minor": 0
      },
      "text/plain": [
       "HBox(children=(VBox(children=(IntProgress(value=0, max=50), HTML(value=''))), Box(children=(HTML(value=''),)))…"
      ]
     },
     "metadata": {},
     "output_type": "display_data"
    },
    {
     "name": "stdout",
     "output_type": "stream",
     "text": [
      "Loss_sqrt_PEHE_Out: 0.2856\n",
      "Loss_ATE_Out: 0.03086\n",
      "\n"
     ]
    },
    {
     "name": "stderr",
     "output_type": "stream",
     "text": [
      " /home/bcebere/anaconda3/envs/cambridge/lib/python3.8/site-packages/ite/algs/causal_multitask_gaussian_processes/model.py:221: SettingWithCopyWarning:\n",
      "A value is trying to be set on a copy of a slice from a DataFrame.\n",
      "Try using .loc[row_indexer,col_indexer] = value instead\n",
      "\n",
      "See the caveats in the documentation: https://pandas.pydata.org/pandas-docs/stable/user_guide/indexing.html#returning-a-view-versus-a-copy\n",
      " /home/bcebere/anaconda3/envs/cambridge/lib/python3.8/site-packages/ite/algs/causal_multitask_gaussian_processes/model.py:222: SettingWithCopyWarning:\n",
      "A value is trying to be set on a copy of a slice from a DataFrame.\n",
      "Try using .loc[row_indexer,col_indexer] = value instead\n",
      "\n",
      "See the caveats in the documentation: https://pandas.pydata.org/pandas-docs/stable/user_guide/indexing.html#returning-a-view-versus-a-copy\n",
      " /home/bcebere/anaconda3/envs/cambridge/lib/python3.8/site-packages/ite/algs/causal_multitask_gaussian_processes/model.py:223: SettingWithCopyWarning:\n",
      "A value is trying to be set on a copy of a slice from a DataFrame.\n",
      "Try using .loc[row_indexer,col_indexer] = value instead\n",
      "\n",
      "See the caveats in the documentation: https://pandas.pydata.org/pandas-docs/stable/user_guide/indexing.html#returning-a-view-versus-a-copy\n",
      " /home/bcebere/anaconda3/envs/cambridge/lib/python3.8/site-packages/ite/algs/causal_multitask_gaussian_processes/model.py:224: SettingWithCopyWarning:\n",
      "A value is trying to be set on a copy of a slice from a DataFrame.\n",
      "Try using .loc[row_indexer,col_indexer] = value instead\n",
      "\n",
      "See the caveats in the documentation: https://pandas.pydata.org/pandas-docs/stable/user_guide/indexing.html#returning-a-view-versus-a-copy\n"
     ]
    },
    {
     "data": {
      "application/vnd.jupyter.widget-view+json": {
       "model_id": "96e11a3a91a94aeab7fff8b8201e7679",
       "version_major": 2,
       "version_minor": 0
      },
      "text/plain": [
       "HBox(children=(VBox(children=(IntProgress(value=0, max=50), HTML(value=''))), Box(children=(HTML(value=''),)))…"
      ]
     },
     "metadata": {},
     "output_type": "display_data"
    },
    {
     "name": "stdout",
     "output_type": "stream",
     "text": [
      "Loss_sqrt_PEHE_Out: 0.2612\n",
      "Loss_ATE_Out: 0.02061\n",
      "\n"
     ]
    },
    {
     "name": "stderr",
     "output_type": "stream",
     "text": [
      " /home/bcebere/anaconda3/envs/cambridge/lib/python3.8/site-packages/ite/algs/causal_multitask_gaussian_processes/model.py:221: SettingWithCopyWarning:\n",
      "A value is trying to be set on a copy of a slice from a DataFrame.\n",
      "Try using .loc[row_indexer,col_indexer] = value instead\n",
      "\n",
      "See the caveats in the documentation: https://pandas.pydata.org/pandas-docs/stable/user_guide/indexing.html#returning-a-view-versus-a-copy\n",
      " /home/bcebere/anaconda3/envs/cambridge/lib/python3.8/site-packages/ite/algs/causal_multitask_gaussian_processes/model.py:222: SettingWithCopyWarning:\n",
      "A value is trying to be set on a copy of a slice from a DataFrame.\n",
      "Try using .loc[row_indexer,col_indexer] = value instead\n",
      "\n",
      "See the caveats in the documentation: https://pandas.pydata.org/pandas-docs/stable/user_guide/indexing.html#returning-a-view-versus-a-copy\n",
      " /home/bcebere/anaconda3/envs/cambridge/lib/python3.8/site-packages/ite/algs/causal_multitask_gaussian_processes/model.py:223: SettingWithCopyWarning:\n",
      "A value is trying to be set on a copy of a slice from a DataFrame.\n",
      "Try using .loc[row_indexer,col_indexer] = value instead\n",
      "\n",
      "See the caveats in the documentation: https://pandas.pydata.org/pandas-docs/stable/user_guide/indexing.html#returning-a-view-versus-a-copy\n",
      " /home/bcebere/anaconda3/envs/cambridge/lib/python3.8/site-packages/ite/algs/causal_multitask_gaussian_processes/model.py:224: SettingWithCopyWarning:\n",
      "A value is trying to be set on a copy of a slice from a DataFrame.\n",
      "Try using .loc[row_indexer,col_indexer] = value instead\n",
      "\n",
      "See the caveats in the documentation: https://pandas.pydata.org/pandas-docs/stable/user_guide/indexing.html#returning-a-view-versus-a-copy\n"
     ]
    },
    {
     "data": {
      "application/vnd.jupyter.widget-view+json": {
       "model_id": "85363223ee8e43ef89cbbc0ed963dadd",
       "version_major": 2,
       "version_minor": 0
      },
      "text/plain": [
       "HBox(children=(VBox(children=(IntProgress(value=0, max=50), HTML(value=''))), Box(children=(HTML(value=''),)))…"
      ]
     },
     "metadata": {},
     "output_type": "display_data"
    },
    {
     "name": "stdout",
     "output_type": "stream",
     "text": [
      "Loss_sqrt_PEHE_Out: 0.2801\n",
      "Loss_ATE_Out: 0.008014\n",
      "\n"
     ]
    },
    {
     "name": "stderr",
     "output_type": "stream",
     "text": [
      " /home/bcebere/anaconda3/envs/cambridge/lib/python3.8/site-packages/ite/algs/causal_multitask_gaussian_processes/model.py:221: SettingWithCopyWarning:\n",
      "A value is trying to be set on a copy of a slice from a DataFrame.\n",
      "Try using .loc[row_indexer,col_indexer] = value instead\n",
      "\n",
      "See the caveats in the documentation: https://pandas.pydata.org/pandas-docs/stable/user_guide/indexing.html#returning-a-view-versus-a-copy\n",
      " /home/bcebere/anaconda3/envs/cambridge/lib/python3.8/site-packages/ite/algs/causal_multitask_gaussian_processes/model.py:222: SettingWithCopyWarning:\n",
      "A value is trying to be set on a copy of a slice from a DataFrame.\n",
      "Try using .loc[row_indexer,col_indexer] = value instead\n",
      "\n",
      "See the caveats in the documentation: https://pandas.pydata.org/pandas-docs/stable/user_guide/indexing.html#returning-a-view-versus-a-copy\n",
      " /home/bcebere/anaconda3/envs/cambridge/lib/python3.8/site-packages/ite/algs/causal_multitask_gaussian_processes/model.py:223: SettingWithCopyWarning:\n",
      "A value is trying to be set on a copy of a slice from a DataFrame.\n",
      "Try using .loc[row_indexer,col_indexer] = value instead\n",
      "\n",
      "See the caveats in the documentation: https://pandas.pydata.org/pandas-docs/stable/user_guide/indexing.html#returning-a-view-versus-a-copy\n",
      " /home/bcebere/anaconda3/envs/cambridge/lib/python3.8/site-packages/ite/algs/causal_multitask_gaussian_processes/model.py:224: SettingWithCopyWarning:\n",
      "A value is trying to be set on a copy of a slice from a DataFrame.\n",
      "Try using .loc[row_indexer,col_indexer] = value instead\n",
      "\n",
      "See the caveats in the documentation: https://pandas.pydata.org/pandas-docs/stable/user_guide/indexing.html#returning-a-view-versus-a-copy\n"
     ]
    },
    {
     "data": {
      "application/vnd.jupyter.widget-view+json": {
       "model_id": "4d0b3c3eca9249bc9f9a3a3952ad3845",
       "version_major": 2,
       "version_minor": 0
      },
      "text/plain": [
       "HBox(children=(VBox(children=(IntProgress(value=0, max=50), HTML(value=''))), Box(children=(HTML(value=''),)))…"
      ]
     },
     "metadata": {},
     "output_type": "display_data"
    },
    {
     "name": "stdout",
     "output_type": "stream",
     "text": [
      "Loss_sqrt_PEHE_Out: 0.2982\n",
      "Loss_ATE_Out: 0.04534\n",
      "\n"
     ]
    },
    {
     "name": "stderr",
     "output_type": "stream",
     "text": [
      " /home/bcebere/anaconda3/envs/cambridge/lib/python3.8/site-packages/ite/algs/causal_multitask_gaussian_processes/model.py:221: SettingWithCopyWarning:\n",
      "A value is trying to be set on a copy of a slice from a DataFrame.\n",
      "Try using .loc[row_indexer,col_indexer] = value instead\n",
      "\n",
      "See the caveats in the documentation: https://pandas.pydata.org/pandas-docs/stable/user_guide/indexing.html#returning-a-view-versus-a-copy\n",
      " /home/bcebere/anaconda3/envs/cambridge/lib/python3.8/site-packages/ite/algs/causal_multitask_gaussian_processes/model.py:222: SettingWithCopyWarning:\n",
      "A value is trying to be set on a copy of a slice from a DataFrame.\n",
      "Try using .loc[row_indexer,col_indexer] = value instead\n",
      "\n",
      "See the caveats in the documentation: https://pandas.pydata.org/pandas-docs/stable/user_guide/indexing.html#returning-a-view-versus-a-copy\n",
      " /home/bcebere/anaconda3/envs/cambridge/lib/python3.8/site-packages/ite/algs/causal_multitask_gaussian_processes/model.py:223: SettingWithCopyWarning:\n",
      "A value is trying to be set on a copy of a slice from a DataFrame.\n",
      "Try using .loc[row_indexer,col_indexer] = value instead\n",
      "\n",
      "See the caveats in the documentation: https://pandas.pydata.org/pandas-docs/stable/user_guide/indexing.html#returning-a-view-versus-a-copy\n",
      " /home/bcebere/anaconda3/envs/cambridge/lib/python3.8/site-packages/ite/algs/causal_multitask_gaussian_processes/model.py:224: SettingWithCopyWarning:\n",
      "A value is trying to be set on a copy of a slice from a DataFrame.\n",
      "Try using .loc[row_indexer,col_indexer] = value instead\n",
      "\n",
      "See the caveats in the documentation: https://pandas.pydata.org/pandas-docs/stable/user_guide/indexing.html#returning-a-view-versus-a-copy\n"
     ]
    },
    {
     "data": {
      "application/vnd.jupyter.widget-view+json": {
       "model_id": "6fc10a8e4ac5492fa5fb8d8b50a12508",
       "version_major": 2,
       "version_minor": 0
      },
      "text/plain": [
       "HBox(children=(VBox(children=(IntProgress(value=0, max=50), HTML(value=''))), Box(children=(HTML(value=''),)))…"
      ]
     },
     "metadata": {},
     "output_type": "display_data"
    },
    {
     "name": "stdout",
     "output_type": "stream",
     "text": [
      "Loss_sqrt_PEHE_Out: 0.3039\n",
      "Loss_ATE_Out: 0.0127\n",
      "\n"
     ]
    },
    {
     "name": "stderr",
     "output_type": "stream",
     "text": [
      " /home/bcebere/anaconda3/envs/cambridge/lib/python3.8/site-packages/ite/algs/causal_multitask_gaussian_processes/model.py:221: SettingWithCopyWarning:\n",
      "A value is trying to be set on a copy of a slice from a DataFrame.\n",
      "Try using .loc[row_indexer,col_indexer] = value instead\n",
      "\n",
      "See the caveats in the documentation: https://pandas.pydata.org/pandas-docs/stable/user_guide/indexing.html#returning-a-view-versus-a-copy\n",
      " /home/bcebere/anaconda3/envs/cambridge/lib/python3.8/site-packages/ite/algs/causal_multitask_gaussian_processes/model.py:222: SettingWithCopyWarning:\n",
      "A value is trying to be set on a copy of a slice from a DataFrame.\n",
      "Try using .loc[row_indexer,col_indexer] = value instead\n",
      "\n",
      "See the caveats in the documentation: https://pandas.pydata.org/pandas-docs/stable/user_guide/indexing.html#returning-a-view-versus-a-copy\n",
      " /home/bcebere/anaconda3/envs/cambridge/lib/python3.8/site-packages/ite/algs/causal_multitask_gaussian_processes/model.py:223: SettingWithCopyWarning:\n",
      "A value is trying to be set on a copy of a slice from a DataFrame.\n",
      "Try using .loc[row_indexer,col_indexer] = value instead\n",
      "\n",
      "See the caveats in the documentation: https://pandas.pydata.org/pandas-docs/stable/user_guide/indexing.html#returning-a-view-versus-a-copy\n",
      " /home/bcebere/anaconda3/envs/cambridge/lib/python3.8/site-packages/ite/algs/causal_multitask_gaussian_processes/model.py:224: SettingWithCopyWarning:\n",
      "A value is trying to be set on a copy of a slice from a DataFrame.\n",
      "Try using .loc[row_indexer,col_indexer] = value instead\n",
      "\n",
      "See the caveats in the documentation: https://pandas.pydata.org/pandas-docs/stable/user_guide/indexing.html#returning-a-view-versus-a-copy\n"
     ]
    },
    {
     "data": {
      "application/vnd.jupyter.widget-view+json": {
       "model_id": "b134bd0670a04be18a3db169f23c0cca",
       "version_major": 2,
       "version_minor": 0
      },
      "text/plain": [
       "HBox(children=(VBox(children=(IntProgress(value=0, max=50), HTML(value=''))), Box(children=(HTML(value=''),)))…"
      ]
     },
     "metadata": {},
     "output_type": "display_data"
    },
    {
     "name": "stdout",
     "output_type": "stream",
     "text": [
      "Loss_sqrt_PEHE_Out: 0.2833\n",
      "Loss_ATE_Out: 0.02257\n",
      "\n"
     ]
    }
   ],
   "source": [
    "plot_experiments: dict = {\n",
    "    \"train_sqrt_PEHE\": [],\n",
    "    \"test_sqrt_PEHE\": [],\n",
    "}\n",
    "    \n",
    "for experiment in range(10):\n",
    "    [Train_X, Train_T, Train_Y, Opt_Train_Y, Test_X, Test_Y] = ds.load(\n",
    "        \"twins\",\n",
    "        train_ratio,\n",
    "        downsample=1000,\n",
    "    )\n",
    "    \n",
    "    dim = len(Train_X[0])\n",
    "    dim_outcome = Test_Y.shape[1]\n",
    " \n",
    "    model = alg.CMGP(\n",
    "        dim=dim,\n",
    "        dim_outcome=dim_outcome,\n",
    "        max_gp_iterations=50,\n",
    "    )\n",
    "    assert model is not None\n",
    " \n",
    "    model.fit(Train_X, Train_T, Train_Y, Test_X, Test_Y)\n",
    " \n",
    "    train_metrics = model.test(Train_X, Opt_Train_Y)\n",
    "    assert \"sqrt_PEHE\" in train_metrics\n",
    "    plot_experiments[\"train_sqrt_PEHE\"].append(train_metrics[\"sqrt_PEHE\"])\n",
    "\n",
    "    test_metrics = model.test(Test_X, Test_Y)\n",
    "    assert \"sqrt_PEHE\" in test_metrics\n",
    "    plot_experiments[\"test_sqrt_PEHE\"].append(test_metrics[\"sqrt_PEHE\"])"
   ]
  },
  {
   "cell_type": "markdown",
   "metadata": {},
   "source": [
    "### Plot train metrics on the test set"
   ]
  },
  {
   "cell_type": "code",
   "execution_count": 7,
   "metadata": {},
   "outputs": [
    {
     "data": {
      "text/plain": [
       "<matplotlib.legend.Legend at 0x7f696141eac0>"
      ]
     },
     "execution_count": 7,
     "metadata": {},
     "output_type": "execute_result"
    },
    {
     "data": {
      "image/png": "[encoded data removed]",
      "text/plain": [
       "<Figure size 432x288 with 2 Axes>"
      ]
     },
     "metadata": {
      "needs_background": "light"
     },
     "output_type": "display_data"
    }
   ],
   "source": [
    "train_sqrt_PEHE = plot_experiments[\"train_sqrt_PEHE\"]\n",
    "test_sqrt_PEHE = plot_experiments[\"test_sqrt_PEHE\"]\n",
    " \n",
    "PEHE_train_np = np.array(train_sqrt_PEHE)[~np.isnan(np.array(train_sqrt_PEHE))]\n",
    "PEHE_test_np = np.array(test_sqrt_PEHE)[~np.isnan(np.array(test_sqrt_PEHE))]\n",
    " \n",
    "train_ci = utils.mean_confidence_interval(PEHE_train_np)\n",
    "test_ci = utils.mean_confidence_interval(PEHE_test_np)\n",
    "\n",
    "fig, axs = plt.subplots(2)\n",
    "axs[0].plot(train_sqrt_PEHE, color=\"r\", label=\"train_sqrt_PEHE\")\n",
    "axs[0].fill_between(\n",
    "    range(len(train_sqrt_PEHE)),\n",
    "    train_sqrt_PEHE - train_ci[1],\n",
    "    train_sqrt_PEHE + train_ci[1],\n",
    "    color=\"r\",\n",
    "    alpha=0.2,\n",
    ")\n",
    "axs[0].legend()\n",
    "         \n",
    "axs[1].plot(test_sqrt_PEHE, label=\"test_sqrt_PEHE\")\n",
    "axs[1].fill_between(\n",
    "    range(len(test_sqrt_PEHE)),\n",
    "    test_sqrt_PEHE - test_ci[1],\n",
    "    test_sqrt_PEHE + test_ci[1],\n",
    "    color=\"b\",\n",
    "    alpha=0.2,\n",
    ")\n",
    "axs[1].legend()"
   ]
  },
  {
   "cell_type": "markdown",
   "metadata": {},
   "source": [
    "### Test\n",
    "Will can run inferences and get metrics directly"
   ]
  },
  {
   "cell_type": "code",
   "execution_count": 10,
   "metadata": {},
   "outputs": [
    {
     "data": {
      "text/plain": [
       "0.2833179694937325"
      ]
     },
     "execution_count": 10,
     "metadata": {},
     "output_type": "execute_result"
    }
   ],
   "source": [
    "metrics = model.test(Test_X, Test_Y)\n",
    " \n",
    "metrics['sqrt_PEHE']"
   ]
  },
  {
   "cell_type": "code",
   "execution_count": null,
   "metadata": {},
   "outputs": [],
   "source": []
  }
 ],
 "metadata": {
  "kernelspec": {
   "display_name": "cambridge",
   "language": "python",
   "name": "cambridge"
  },
  "language_info": {
   "codemirror_mode": {
    "name": "ipython",
    "version": 3
   },
   "file_extension": ".py",
   "mimetype": "text/x-python",
   "name": "python",
   "nbconvert_exporter": "python",
   "pygments_lexer": "ipython3",
   "version": "3.8.5"
  }
 },
 "nbformat": 4,
 "nbformat_minor": 4
}
