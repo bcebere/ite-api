{
 "cells": [
  {
   "cell_type": "markdown",
   "metadata": {},
   "source": [
    "## CMGP: Train and Evaluation"
   ]
  },
  {
   "cell_type": "markdown",
   "metadata": {},
   "source": [
    "This notebook presents the solution for training and evaluating CMGP.\n",
    "\n",
    "The implementation of CMGP is adapted in the local `ite` library.\n",
    "\n",
    "First, make sure that all the depends are installed.\n",
    "```\n",
    "pip install -r requirements.txt\n",
    "pip install .\n",
    "```"
   ]
  },
  {
   "cell_type": "markdown",
   "metadata": {},
   "source": [
    "### Setup\n",
    "\n",
    "First, we import all the dependencies necessary for the task."
   ]
  },
  {
   "cell_type": "code",
   "execution_count": null,
   "metadata": {},
   "outputs": [],
   "source": [
    "# Double check that we are using the correct interpreter.\n",
    "import sys\n",
    "print(sys.executable)\n",
    "    \n",
    "# Import depends\n",
    "import ite.algs.causal_multitask_gaussian_processes.model as alg\n",
    "import ite.datasets as ds\n",
    "import ite.utils.numpy as utils\n",
    "import numpy as np\n",
    "\n",
    "from matplotlib import pyplot as plt"
   ]
  },
  {
   "cell_type": "markdown",
   "metadata": {},
   "source": [
    "### Load the Dataset\n",
    "\n",
    "For CGMP, we have to downsample to 1000 training items."
   ]
  },
  {
   "cell_type": "code",
   "execution_count": null,
   "metadata": {},
   "outputs": [],
   "source": [
    "train_ratio = 0.8\n",
    " \n",
    "dataset = ds.load(\"twins\", train_ratio, downsample=1000)\n",
    "[Train_X, Train_T, Train_Y, Opt_Train_Y, Test_X, Test_Y] = dataset"
   ]
  },
  {
   "cell_type": "markdown",
   "metadata": {},
   "source": [
    "### Load the model"
   ]
  },
  {
   "cell_type": "code",
   "execution_count": null,
   "metadata": {},
   "outputs": [],
   "source": [
    "dim = len(Train_X[0])\n",
    "dim_outcome = Test_Y.shape[1]\n",
    "        \n",
    "model = alg.CMGP(\n",
    "    dim=dim,\n",
    "    dim_outcome=dim_outcome,\n",
    "    max_gp_iterations=500,\n",
    ")\n",
    "\n",
    "assert model is not None"
   ]
  },
  {
   "cell_type": "markdown",
   "metadata": {},
   "source": [
    "### Run experiments"
   ]
  },
  {
   "cell_type": "code",
   "execution_count": null,
   "metadata": {},
   "outputs": [],
   "source": [
    "for experiment in range(6):\n",
    "    dataset = ds.load(\n",
    "        \"twins\",\n",
    "        train_ratio,\n",
    "        downsample=1000,\n",
    "    )\n",
    " \n",
    "    metrics = model.train(*dataset)"
   ]
  },
  {
   "cell_type": "markdown",
   "metadata": {},
   "source": [
    "### Plot experiments metrics"
   ]
  },
  {
   "cell_type": "code",
   "execution_count": null,
   "metadata": {},
   "outputs": [],
   "source": [
    "metrics.print()\n",
    "\n",
    "metrics.plot(plt, with_ci=True, thresholds=[0.2, 0.25, 0.3, 0.35])"
   ]
  },
  {
   "cell_type": "markdown",
   "metadata": {},
   "source": [
    "### Predict"
   ]
  },
  {
   "cell_type": "code",
   "execution_count": null,
   "metadata": {},
   "outputs": [],
   "source": [
    "hat_y = model.predict(Test_X)\n",
    "utils.sqrt_PEHE(hat_y.to_numpy(), Test_Y)"
   ]
  },
  {
   "cell_type": "markdown",
   "metadata": {},
   "source": [
    "### Test\n",
    "Will can run inferences and get metrics directly"
   ]
  },
  {
   "cell_type": "code",
   "execution_count": null,
   "metadata": {},
   "outputs": [],
   "source": [
    "metrics = model.test(Test_X, Test_Y)\n",
    " \n",
    "metrics.print()"
   ]
  },
  {
   "cell_type": "code",
   "execution_count": null,
   "metadata": {},
   "outputs": [],
   "source": []
  }
 ],
 "metadata": {
  "kernelspec": {
   "display_name": "cambridge",
   "language": "python",
   "name": "cambridge"
  },
  "language_info": {
   "codemirror_mode": {
    "name": "ipython",
    "version": 3
   },
   "file_extension": ".py",
   "mimetype": "text/x-python",
   "name": "python",
   "nbconvert_exporter": "python",
   "pygments_lexer": "ipython3",
   "version": "3.8.5"
  }
 },
 "nbformat": 4,
 "nbformat_minor": 4
}
