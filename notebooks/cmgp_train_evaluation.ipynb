{
 "cells": [
  {
   "cell_type": "markdown",
   "metadata": {},
   "source": [
    "## CMGP: Train and Evaluation"
   ]
  },
  {
   "cell_type": "markdown",
   "metadata": {},
   "source": [
    "This notebook presents the solution for training and evaluating CMGP.\n",
    "\n",
    "The implementation of CMGP is adapted in the local `ite` library.\n",
    "\n",
    "First, make sure that all the depends are installed.\n",
    "```\n",
    "pip install -r requirements.txt\n",
    "pip install .\n",
    "```"
   ]
  },
  {
   "cell_type": "markdown",
   "metadata": {},
   "source": [
    "### Setup\n",
    "\n",
    "First, we import all the dependencies necessary for the task."
   ]
  },
  {
   "cell_type": "code",
   "execution_count": null,
   "metadata": {},
   "outputs": [],
   "source": [
    "# Double check that we are using the correct interpreter.\n",
    "import sys\n",
    "print(sys.executable)\n",
    "    \n",
    "# Import depends\n",
    "import ite.algs.causal_multitask_gaussian_processes.model as alg\n",
    "import ite.datasets as ds\n",
    "import ite.utils.numpy as utils\n",
    "import numpy as np\n",
    "\n",
    "from matplotlib import pyplot as plt"
   ]
  },
  {
   "cell_type": "markdown",
   "metadata": {},
   "source": [
    "### Load the Dataset\n",
    "\n",
    "For CGMP, we have to downsample to 1000 training items."
   ]
  },
  {
   "cell_type": "code",
   "execution_count": null,
   "metadata": {},
   "outputs": [],
   "source": [
    "train_ratio = 0.8\n",
    " \n",
    "[Train_X, Train_T, Train_Y, Opt_Train_Y, Test_X, Test_Y] = ds.load(\"twins\", train_ratio, downsample=1000)"
   ]
  },
  {
   "cell_type": "markdown",
   "metadata": {},
   "source": [
    "### Load the model"
   ]
  },
  {
   "cell_type": "code",
   "execution_count": null,
   "metadata": {},
   "outputs": [],
   "source": [
    "model = alg.CMGP(\n",
    "    dim=dim,\n",
    "    dim_outcome=dim_outcome,\n",
    "    max_gp_iterations=50,\n",
    ")\n",
    "\n",
    "assert model is not None"
   ]
  },
  {
   "cell_type": "markdown",
   "metadata": {},
   "source": [
    "### Run experiments"
   ]
  },
  {
   "cell_type": "code",
   "execution_count": null,
   "metadata": {},
   "outputs": [],
   "source": [
    "plot_experiments: dict = {\n",
    "    \"train_sqrt_PEHE\": [],\n",
    "    \"test_sqrt_PEHE\": [],\n",
    "}\n",
    "    \n",
    "for experiment in range(10):\n",
    "    [Train_X, Train_T, Train_Y, Opt_Train_Y, Test_X, Test_Y] = ds.load(\n",
    "        \"twins\",\n",
    "        train_ratio,\n",
    "        downsample=1000,\n",
    "    )\n",
    "    \n",
    "    dim = len(Train_X[0])\n",
    "    dim_outcome = Test_Y.shape[1]\n",
    " \n",
    "    model = alg.CMGP(\n",
    "        dim=dim,\n",
    "        dim_outcome=dim_outcome,\n",
    "        max_gp_iterations=50,\n",
    "    )\n",
    "    assert model is not None\n",
    " \n",
    "    model.fit(Train_X, Train_T, Train_Y, Test_X, Test_Y)\n",
    " \n",
    "    train_metrics = model.test(Train_X, Opt_Train_Y)\n",
    "    assert \"sqrt_PEHE\" in train_metrics\n",
    "    plot_experiments[\"train_sqrt_PEHE\"].append(train_metrics[\"sqrt_PEHE\"])\n",
    "\n",
    "    test_metrics = model.test(Test_X, Test_Y)\n",
    "    assert \"sqrt_PEHE\" in test_metrics\n",
    "    plot_experiments[\"test_sqrt_PEHE\"].append(test_metrics[\"sqrt_PEHE\"])"
   ]
  },
  {
   "cell_type": "markdown",
   "metadata": {},
   "source": [
    "### Plot train metrics on the test set"
   ]
  },
  {
   "cell_type": "code",
   "execution_count": null,
   "metadata": {},
   "outputs": [],
   "source": [
    "train_sqrt_PEHE = plot_experiments[\"train_sqrt_PEHE\"]\n",
    "test_sqrt_PEHE = plot_experiments[\"test_sqrt_PEHE\"]\n",
    " \n",
    "PEHE_train_np = np.array(train_sqrt_PEHE)[~np.isnan(np.array(train_sqrt_PEHE))]\n",
    "PEHE_test_np = np.array(test_sqrt_PEHE)[~np.isnan(np.array(test_sqrt_PEHE))]\n",
    " \n",
    "train_ci = utils.mean_confidence_interval(PEHE_train_np)\n",
    "test_ci = utils.mean_confidence_interval(PEHE_test_np)\n",
    "\n",
    "fig, axs = plt.subplots(2)\n",
    "axs[0].plot(train_sqrt_PEHE, color=\"r\", label=\"train_sqrt_PEHE\")\n",
    "axs[0].fill_between(\n",
    "    range(len(train_sqrt_PEHE)),\n",
    "    train_sqrt_PEHE - train_ci[1],\n",
    "    train_sqrt_PEHE + train_ci[1],\n",
    "    color=\"r\",\n",
    "    alpha=0.2,\n",
    ")\n",
    "axs[0].legend()\n",
    "         \n",
    "axs[1].plot(test_sqrt_PEHE, label=\"test_sqrt_PEHE\")\n",
    "axs[1].fill_between(\n",
    "    range(len(test_sqrt_PEHE)),\n",
    "    test_sqrt_PEHE - test_ci[1],\n",
    "    test_sqrt_PEHE + test_ci[1],\n",
    "    color=\"b\",\n",
    "    alpha=0.2,\n",
    ")\n",
    "axs[1].legend()"
   ]
  },
  {
   "cell_type": "markdown",
   "metadata": {},
   "source": [
    "### Test\n",
    "Will can run inferences and get metrics directly"
   ]
  },
  {
   "cell_type": "code",
   "execution_count": null,
   "metadata": {},
   "outputs": [],
   "source": [
    "metrics = model.test(Test_X, Test_Y)\n",
    " \n",
    "metrics['sqrt_PEHE']"
   ]
  },
  {
   "cell_type": "code",
   "execution_count": null,
   "metadata": {},
   "outputs": [],
   "source": []
  }
 ],
 "metadata": {
  "kernelspec": {
   "display_name": "cambridge",
   "language": "python",
   "name": "cambridge"
  },
  "language_info": {
   "codemirror_mode": {
    "name": "ipython",
    "version": 3
   },
   "file_extension": ".py",
   "mimetype": "text/x-python",
   "name": "python",
   "nbconvert_exporter": "python",
   "pygments_lexer": "ipython3",
   "version": "3.8.5"
  }
 },
 "nbformat": 4,
 "nbformat_minor": 4
}
