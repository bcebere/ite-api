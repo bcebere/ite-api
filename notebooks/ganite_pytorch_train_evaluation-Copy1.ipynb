{
 "cells": [
  {
   "cell_type": "markdown",
   "metadata": {},
   "source": [
    "## GANITE(PyTorch): Train and Evaluation"
   ]
  },
  {
   "cell_type": "markdown",
   "metadata": {},
   "source": [
    "This notebook presents the solution for training and evaluating GANITE(PyTorch version).\n",
    "\n",
    "The implementation of GANITE is adapted in the local `ite` library.\n",
    "\n",
    "First, make sure that all the depends are installed.\n",
    "```\n",
    "pip install -r requirements.txt\n",
    "pip install .\n",
    "```"
   ]
  },
  {
   "cell_type": "markdown",
   "metadata": {},
   "source": [
    "### Setup\n",
    "\n",
    "First, we import all the dependencies necessary for the task."
   ]
  },
  {
   "cell_type": "code",
   "execution_count": 15,
   "metadata": {},
   "outputs": [
    {
     "name": "stdout",
     "output_type": "stream",
     "text": [
      "/home/bcebere/anaconda3/envs/cambridge/bin/python\n"
     ]
    }
   ],
   "source": [
    "# Double check that we are using the correct interpreter.\n",
    "import sys\n",
    "print(sys.executable)\n",
    "    \n",
    "# Import depends\n",
    "import ite.algs.ganite_torch.model as alg\n",
    "import ite.datasets as ds\n",
    "import ite.utils.numpy as utils\n",
    "\n",
    "from matplotlib import pyplot as plt\n",
    "import torch"
   ]
  },
  {
   "cell_type": "markdown",
   "metadata": {},
   "source": [
    "### Load the Dataset\n",
    "\n"
   ]
  },
  {
   "cell_type": "code",
   "execution_count": 2,
   "metadata": {},
   "outputs": [],
   "source": [
    "train_ratio = 0.8\n",
    " \n",
    "[Train_X, Train_T, Train_Y, Opt_Train_Y, Test_X, Test_Y] = ds.load(\"twins\", train_ratio)"
   ]
  },
  {
   "cell_type": "markdown",
   "metadata": {},
   "source": [
    "### Load the model"
   ]
  },
  {
   "cell_type": "code",
   "execution_count": 5,
   "metadata": {},
   "outputs": [],
   "source": [
    "dim = len(Train_X[0])\n",
    "dim_hidden = 8\n",
    "dim_outcome = Test_Y.shape[1]\n",
    " \n",
    "model = alg.GaniteTorch(\n",
    "    dim, # number of features\n",
    "    dim_hidden, # size of the hidden layers\n",
    "    dim_outcome, # size of the output\n",
    "    num_iterations=10000, # number of training iterations\n",
    "    alpha=2, # alpha hyperparameter, used for the Generator block loss\n",
    "    beta=2, # beta hyperparameter, used for the ITE block loss\n",
    "    minibatch_size=128, # data batch size\n",
    "    num_discr_iterations=10, # number of iterations executed by the discriminator.\n",
    ")\n",
    "\n",
    "assert model is not None"
   ]
  },
  {
   "cell_type": "markdown",
   "metadata": {},
   "source": [
    "### Train"
   ]
  },
  {
   "cell_type": "code",
   "execution_count": 6,
   "metadata": {},
   "outputs": [
    {
     "name": "stderr",
     "output_type": "stream",
     "text": [
      "  0%|          | 0/10000 [00:00<?, ?it/s] /home/bcebere/anaconda3/envs/cambridge/lib/python3.8/site-packages/torch/autograd/__init__.py:130: UserWarning:CUDA initialization: Found no NVIDIA driver on your system. Please check that you have an NVIDIA GPU and installed a driver from http://www.nvidia.com/Download/index.aspx (Triggered internally at  /pytorch/c10/cuda/CUDAFunctions.cpp:100.)\n",
      "  0%|          | 8/10000 [00:00<04:45, 35.05it/s]"
     ]
    },
    {
     "name": "stdout",
     "output_type": "stream",
     "text": [
      "Iter: 0\n",
      "D_loss: 0.6928\n",
      "G_loss: -1.083\n",
      "\n"
     ]
    },
    {
     "name": "stderr",
     "output_type": "stream",
     "text": [
      "  2%|▏         | 205/10000 [00:04<04:20, 37.64it/s]"
     ]
    },
    {
     "name": "stdout",
     "output_type": "stream",
     "text": [
      "Iter: 200\n",
      "D_loss: 0.6931\n",
      "G_loss: -1.273\n",
      "\n"
     ]
    },
    {
     "name": "stderr",
     "output_type": "stream",
     "text": [
      "  4%|▍         | 408/10000 [00:09<03:57, 40.45it/s]"
     ]
    },
    {
     "name": "stdout",
     "output_type": "stream",
     "text": [
      "Iter: 400\n",
      "D_loss: 0.6931\n",
      "G_loss: -1.294\n",
      "\n"
     ]
    },
    {
     "name": "stderr",
     "output_type": "stream",
     "text": [
      "  6%|▌         | 607/10000 [00:14<03:59, 39.29it/s]"
     ]
    },
    {
     "name": "stdout",
     "output_type": "stream",
     "text": [
      "Iter: 600\n",
      "D_loss: 0.6924\n",
      "G_loss: -1.343\n",
      "\n"
     ]
    },
    {
     "name": "stderr",
     "output_type": "stream",
     "text": [
      "  8%|▊         | 810/10000 [00:19<03:34, 42.75it/s]"
     ]
    },
    {
     "name": "stdout",
     "output_type": "stream",
     "text": [
      "Iter: 800\n",
      "D_loss: 0.6931\n",
      "G_loss: -1.363\n",
      "\n"
     ]
    },
    {
     "name": "stderr",
     "output_type": "stream",
     "text": [
      " 10%|█         | 1009/10000 [00:24<03:33, 42.16it/s]"
     ]
    },
    {
     "name": "stdout",
     "output_type": "stream",
     "text": [
      "Iter: 1000\n",
      "D_loss: 0.6931\n",
      "G_loss: -1.38\n",
      "\n"
     ]
    },
    {
     "name": "stderr",
     "output_type": "stream",
     "text": [
      " 12%|█▏        | 1209/10000 [00:30<04:00, 36.55it/s]"
     ]
    },
    {
     "name": "stdout",
     "output_type": "stream",
     "text": [
      "Iter: 1200\n",
      "D_loss: 0.6931\n",
      "G_loss: -1.384\n",
      "\n"
     ]
    },
    {
     "name": "stderr",
     "output_type": "stream",
     "text": [
      " 14%|█▍        | 1405/10000 [00:35<03:50, 37.29it/s]"
     ]
    },
    {
     "name": "stdout",
     "output_type": "stream",
     "text": [
      "Iter: 1400\n",
      "D_loss: 0.6931\n",
      "G_loss: -1.385\n",
      "\n"
     ]
    },
    {
     "name": "stderr",
     "output_type": "stream",
     "text": [
      " 16%|█▌        | 1608/10000 [00:40<04:28, 31.23it/s]"
     ]
    },
    {
     "name": "stdout",
     "output_type": "stream",
     "text": [
      "Iter: 1600\n",
      "D_loss: 0.6931\n",
      "G_loss: -1.386\n",
      "\n"
     ]
    },
    {
     "name": "stderr",
     "output_type": "stream",
     "text": [
      " 18%|█▊        | 1806/10000 [00:45<03:19, 41.00it/s]"
     ]
    },
    {
     "name": "stdout",
     "output_type": "stream",
     "text": [
      "Iter: 1800\n",
      "D_loss: 0.6931\n",
      "G_loss: -1.386\n",
      "\n"
     ]
    },
    {
     "name": "stderr",
     "output_type": "stream",
     "text": [
      " 20%|██        | 2006/10000 [00:50<03:16, 40.66it/s]"
     ]
    },
    {
     "name": "stdout",
     "output_type": "stream",
     "text": [
      "Iter: 2000\n",
      "D_loss: 0.6931\n",
      "G_loss: -1.386\n",
      "\n"
     ]
    },
    {
     "name": "stderr",
     "output_type": "stream",
     "text": [
      " 22%|██▏       | 2206/10000 [00:55<03:03, 42.37it/s]"
     ]
    },
    {
     "name": "stdout",
     "output_type": "stream",
     "text": [
      "Iter: 2200\n",
      "D_loss: 0.6877\n",
      "G_loss: -1.375\n",
      "\n"
     ]
    },
    {
     "name": "stderr",
     "output_type": "stream",
     "text": [
      " 24%|██▍       | 2406/10000 [01:00<03:01, 41.89it/s]"
     ]
    },
    {
     "name": "stdout",
     "output_type": "stream",
     "text": [
      "Iter: 2400\n",
      "D_loss: 0.6931\n",
      "G_loss: -1.385\n",
      "\n"
     ]
    },
    {
     "name": "stderr",
     "output_type": "stream",
     "text": [
      " 26%|██▌       | 2604/10000 [01:05<03:36, 34.11it/s]"
     ]
    },
    {
     "name": "stdout",
     "output_type": "stream",
     "text": [
      "Iter: 2600\n",
      "D_loss: 0.6931\n",
      "G_loss: -1.386\n",
      "\n"
     ]
    },
    {
     "name": "stderr",
     "output_type": "stream",
     "text": [
      " 28%|██▊       | 2807/10000 [01:12<02:52, 41.70it/s]"
     ]
    },
    {
     "name": "stdout",
     "output_type": "stream",
     "text": [
      "Iter: 2800\n",
      "D_loss: 0.6931\n",
      "G_loss: -1.385\n",
      "\n"
     ]
    },
    {
     "name": "stderr",
     "output_type": "stream",
     "text": [
      " 30%|███       | 3007/10000 [01:16<02:45, 42.21it/s]"
     ]
    },
    {
     "name": "stdout",
     "output_type": "stream",
     "text": [
      "Iter: 3000\n",
      "D_loss: 0.6931\n",
      "G_loss: -1.386\n",
      "\n"
     ]
    },
    {
     "name": "stderr",
     "output_type": "stream",
     "text": [
      " 32%|███▏      | 3203/10000 [01:22<04:03, 27.87it/s]"
     ]
    },
    {
     "name": "stdout",
     "output_type": "stream",
     "text": [
      "Iter: 3200\n",
      "D_loss: 0.6931\n",
      "G_loss: -1.386\n",
      "\n"
     ]
    },
    {
     "name": "stderr",
     "output_type": "stream",
     "text": [
      " 34%|███▍      | 3406/10000 [01:27<02:41, 40.95it/s]"
     ]
    },
    {
     "name": "stdout",
     "output_type": "stream",
     "text": [
      "Iter: 3400\n",
      "D_loss: 0.6931\n",
      "G_loss: -1.386\n",
      "\n"
     ]
    },
    {
     "name": "stderr",
     "output_type": "stream",
     "text": [
      " 36%|███▌      | 3605/10000 [01:33<02:46, 38.48it/s]"
     ]
    },
    {
     "name": "stdout",
     "output_type": "stream",
     "text": [
      "Iter: 3600\n",
      "D_loss: 0.6877\n",
      "G_loss: -1.375\n",
      "\n"
     ]
    },
    {
     "name": "stderr",
     "output_type": "stream",
     "text": [
      " 38%|███▊      | 3804/10000 [01:39<03:40, 28.11it/s]"
     ]
    },
    {
     "name": "stdout",
     "output_type": "stream",
     "text": [
      "Iter: 3800\n",
      "D_loss: 0.6931\n",
      "G_loss: -1.386\n",
      "\n"
     ]
    },
    {
     "name": "stderr",
     "output_type": "stream",
     "text": [
      " 40%|████      | 4004/10000 [01:47<03:26, 28.98it/s]"
     ]
    },
    {
     "name": "stdout",
     "output_type": "stream",
     "text": [
      "Iter: 4000\n",
      "D_loss: 0.6877\n",
      "G_loss: -1.375\n",
      "\n"
     ]
    },
    {
     "name": "stderr",
     "output_type": "stream",
     "text": [
      " 42%|████▏     | 4205/10000 [01:54<03:26, 28.01it/s]"
     ]
    },
    {
     "name": "stdout",
     "output_type": "stream",
     "text": [
      "Iter: 4200\n",
      "D_loss: 0.6931\n",
      "G_loss: -1.386\n",
      "\n"
     ]
    },
    {
     "name": "stderr",
     "output_type": "stream",
     "text": [
      " 44%|████▍     | 4404/10000 [02:00<03:05, 30.18it/s]"
     ]
    },
    {
     "name": "stdout",
     "output_type": "stream",
     "text": [
      "Iter: 4400\n",
      "D_loss: 0.6931\n",
      "G_loss: -1.386\n",
      "\n"
     ]
    },
    {
     "name": "stderr",
     "output_type": "stream",
     "text": [
      " 46%|████▌     | 4608/10000 [02:06<02:11, 40.92it/s]"
     ]
    },
    {
     "name": "stdout",
     "output_type": "stream",
     "text": [
      "Iter: 4600\n",
      "D_loss: 0.6931\n",
      "G_loss: -1.386\n",
      "\n"
     ]
    },
    {
     "name": "stderr",
     "output_type": "stream",
     "text": [
      " 48%|████▊     | 4805/10000 [02:10<02:05, 41.33it/s]"
     ]
    },
    {
     "name": "stdout",
     "output_type": "stream",
     "text": [
      "Iter: 4800\n",
      "D_loss: 0.6931\n",
      "G_loss: -1.386\n",
      "\n"
     ]
    },
    {
     "name": "stderr",
     "output_type": "stream",
     "text": [
      " 50%|█████     | 5007/10000 [02:15<02:01, 41.00it/s]"
     ]
    },
    {
     "name": "stdout",
     "output_type": "stream",
     "text": [
      "Iter: 5000\n",
      "D_loss: 0.6931\n",
      "G_loss: -1.386\n",
      "\n"
     ]
    },
    {
     "name": "stderr",
     "output_type": "stream",
     "text": [
      " 52%|█████▏    | 5207/10000 [02:20<01:54, 42.01it/s]"
     ]
    },
    {
     "name": "stdout",
     "output_type": "stream",
     "text": [
      "Iter: 5200\n",
      "D_loss: 0.7072\n",
      "G_loss: -1.414\n",
      "\n"
     ]
    },
    {
     "name": "stderr",
     "output_type": "stream",
     "text": [
      " 54%|█████▍    | 5407/10000 [02:25<01:47, 42.67it/s]"
     ]
    },
    {
     "name": "stdout",
     "output_type": "stream",
     "text": [
      "Iter: 5400\n",
      "D_loss: 0.6879\n",
      "G_loss: -1.376\n",
      "\n"
     ]
    },
    {
     "name": "stderr",
     "output_type": "stream",
     "text": [
      " 56%|█████▌    | 5606/10000 [02:30<01:48, 40.33it/s]"
     ]
    },
    {
     "name": "stdout",
     "output_type": "stream",
     "text": [
      "Iter: 5600\n",
      "D_loss: 0.6931\n",
      "G_loss: -1.386\n",
      "\n"
     ]
    },
    {
     "name": "stderr",
     "output_type": "stream",
     "text": [
      " 58%|█████▊    | 5806/10000 [02:35<01:39, 42.33it/s]"
     ]
    },
    {
     "name": "stdout",
     "output_type": "stream",
     "text": [
      "Iter: 5800\n",
      "D_loss: 0.6847\n",
      "G_loss: -1.369\n",
      "\n"
     ]
    },
    {
     "name": "stderr",
     "output_type": "stream",
     "text": [
      " 60%|██████    | 6007/10000 [02:40<01:39, 40.31it/s]"
     ]
    },
    {
     "name": "stdout",
     "output_type": "stream",
     "text": [
      "Iter: 6000\n",
      "D_loss: 0.6931\n",
      "G_loss: -1.386\n",
      "\n"
     ]
    },
    {
     "name": "stderr",
     "output_type": "stream",
     "text": [
      " 62%|██████▏   | 6204/10000 [02:47<02:21, 26.77it/s]"
     ]
    },
    {
     "name": "stdout",
     "output_type": "stream",
     "text": [
      "Iter: 6200\n",
      "D_loss: 0.6878\n",
      "G_loss: -1.375\n",
      "\n"
     ]
    },
    {
     "name": "stderr",
     "output_type": "stream",
     "text": [
      " 64%|██████▍   | 6408/10000 [02:53<01:27, 41.16it/s]"
     ]
    },
    {
     "name": "stdout",
     "output_type": "stream",
     "text": [
      "Iter: 6400\n",
      "D_loss: 0.6931\n",
      "G_loss: -1.386\n",
      "\n"
     ]
    },
    {
     "name": "stderr",
     "output_type": "stream",
     "text": [
      " 66%|██████▌   | 6603/10000 [03:03<02:43, 20.82it/s]"
     ]
    },
    {
     "name": "stdout",
     "output_type": "stream",
     "text": [
      "Iter: 6600\n",
      "D_loss: 0.6931\n",
      "G_loss: -1.386\n",
      "\n"
     ]
    },
    {
     "name": "stderr",
     "output_type": "stream",
     "text": [
      " 68%|██████▊   | 6804/10000 [03:10<01:54, 27.88it/s]"
     ]
    },
    {
     "name": "stdout",
     "output_type": "stream",
     "text": [
      "Iter: 6800\n",
      "D_loss: 0.6931\n",
      "G_loss: -1.386\n",
      "\n"
     ]
    },
    {
     "name": "stderr",
     "output_type": "stream",
     "text": [
      " 70%|███████   | 7003/10000 [03:18<01:56, 25.84it/s]"
     ]
    },
    {
     "name": "stdout",
     "output_type": "stream",
     "text": [
      "Iter: 7000\n",
      "D_loss: 0.6931\n",
      "G_loss: -1.385\n",
      "\n"
     ]
    },
    {
     "name": "stderr",
     "output_type": "stream",
     "text": [
      " 72%|███████▏  | 7204/10000 [03:26<01:47, 25.93it/s]"
     ]
    },
    {
     "name": "stdout",
     "output_type": "stream",
     "text": [
      "Iter: 7200\n",
      "D_loss: 0.6931\n",
      "G_loss: -1.386\n",
      "\n"
     ]
    },
    {
     "name": "stderr",
     "output_type": "stream",
     "text": [
      " 74%|███████▍  | 7405/10000 [03:34<01:50, 23.54it/s]"
     ]
    },
    {
     "name": "stdout",
     "output_type": "stream",
     "text": [
      "Iter: 7400\n",
      "D_loss: 0.6931\n",
      "G_loss: -1.386\n",
      "\n"
     ]
    },
    {
     "name": "stderr",
     "output_type": "stream",
     "text": [
      " 76%|███████▌  | 7608/10000 [03:40<00:55, 43.37it/s]"
     ]
    },
    {
     "name": "stdout",
     "output_type": "stream",
     "text": [
      "Iter: 7600\n",
      "D_loss: 0.6931\n",
      "G_loss: -1.386\n",
      "\n"
     ]
    },
    {
     "name": "stderr",
     "output_type": "stream",
     "text": [
      " 78%|███████▊  | 7807/10000 [03:45<00:49, 44.30it/s]"
     ]
    },
    {
     "name": "stdout",
     "output_type": "stream",
     "text": [
      "Iter: 7800\n",
      "D_loss: 0.6931\n",
      "G_loss: -1.386\n",
      "\n"
     ]
    },
    {
     "name": "stderr",
     "output_type": "stream",
     "text": [
      " 80%|████████  | 8008/10000 [03:49<00:46, 42.65it/s]"
     ]
    },
    {
     "name": "stdout",
     "output_type": "stream",
     "text": [
      "Iter: 8000\n",
      "D_loss: 0.6931\n",
      "G_loss: -1.386\n",
      "\n"
     ]
    },
    {
     "name": "stderr",
     "output_type": "stream",
     "text": [
      " 82%|████████▏ | 8208/10000 [03:54<00:41, 42.74it/s]"
     ]
    },
    {
     "name": "stdout",
     "output_type": "stream",
     "text": [
      "Iter: 8200\n",
      "D_loss: 0.6931\n",
      "G_loss: -1.386\n",
      "\n"
     ]
    },
    {
     "name": "stderr",
     "output_type": "stream",
     "text": [
      " 84%|████████▍ | 8407/10000 [04:00<00:36, 43.19it/s]"
     ]
    },
    {
     "name": "stdout",
     "output_type": "stream",
     "text": [
      "Iter: 8400\n",
      "D_loss: 0.6931\n",
      "G_loss: -1.386\n",
      "\n"
     ]
    },
    {
     "name": "stderr",
     "output_type": "stream",
     "text": [
      " 86%|████████▌ | 8606/10000 [04:05<00:33, 41.89it/s]"
     ]
    },
    {
     "name": "stdout",
     "output_type": "stream",
     "text": [
      "Iter: 8600\n",
      "D_loss: 0.6931\n",
      "G_loss: -1.386\n",
      "\n"
     ]
    },
    {
     "name": "stderr",
     "output_type": "stream",
     "text": [
      " 88%|████████▊ | 8808/10000 [04:11<00:30, 39.12it/s]"
     ]
    },
    {
     "name": "stdout",
     "output_type": "stream",
     "text": [
      "Iter: 8800\n",
      "D_loss: 0.6931\n",
      "G_loss: -1.386\n",
      "\n"
     ]
    },
    {
     "name": "stderr",
     "output_type": "stream",
     "text": [
      " 90%|█████████ | 9007/10000 [04:16<00:23, 41.65it/s]"
     ]
    },
    {
     "name": "stdout",
     "output_type": "stream",
     "text": [
      "Iter: 9000\n",
      "D_loss: 0.6931\n",
      "G_loss: -1.386\n",
      "\n"
     ]
    },
    {
     "name": "stderr",
     "output_type": "stream",
     "text": [
      " 92%|█████████▏| 9205/10000 [04:21<00:24, 32.20it/s]"
     ]
    },
    {
     "name": "stdout",
     "output_type": "stream",
     "text": [
      "Iter: 9200\n",
      "D_loss: 0.6931\n",
      "G_loss: -1.385\n",
      "\n"
     ]
    },
    {
     "name": "stderr",
     "output_type": "stream",
     "text": [
      " 94%|█████████▍| 9405/10000 [04:26<00:15, 37.70it/s]"
     ]
    },
    {
     "name": "stdout",
     "output_type": "stream",
     "text": [
      "Iter: 9400\n",
      "D_loss: 0.6931\n",
      "G_loss: -1.386\n",
      "\n"
     ]
    },
    {
     "name": "stderr",
     "output_type": "stream",
     "text": [
      " 96%|█████████▌| 9605/10000 [04:31<00:13, 30.16it/s]"
     ]
    },
    {
     "name": "stdout",
     "output_type": "stream",
     "text": [
      "Iter: 9600\n",
      "D_loss: 0.6931\n",
      "G_loss: -1.386\n",
      "\n"
     ]
    },
    {
     "name": "stderr",
     "output_type": "stream",
     "text": [
      " 98%|█████████▊| 9805/10000 [04:37<00:05, 38.85it/s]"
     ]
    },
    {
     "name": "stdout",
     "output_type": "stream",
     "text": [
      "Iter: 9800\n",
      "D_loss: 0.6931\n",
      "G_loss: -1.386\n",
      "\n"
     ]
    },
    {
     "name": "stderr",
     "output_type": "stream",
     "text": [
      "100%|██████████| 10000/10000 [04:42<00:00, 35.40it/s]\n",
      "  0%|          | 50/10000 [00:00<00:39, 253.49it/s]"
     ]
    },
    {
     "name": "stdout",
     "output_type": "stream",
     "text": [
      "Iter: 0\n",
      "I_loss: 0.783\n",
      "Loss_sqrt_PEHE_Out: 0.3234\n",
      "Loss_ATE_Out: 0.1296\n",
      "\n"
     ]
    },
    {
     "name": "stderr",
     "output_type": "stream",
     "text": [
      "  2%|▏         | 223/10000 [00:00<00:30, 321.09it/s]"
     ]
    },
    {
     "name": "stdout",
     "output_type": "stream",
     "text": [
      "Iter: 200\n",
      "I_loss: 0.4833\n",
      "Loss_sqrt_PEHE_Out: 0.2955\n",
      "Loss_ATE_Out: 0.02483\n",
      "\n"
     ]
    },
    {
     "name": "stderr",
     "output_type": "stream",
     "text": [
      "  4%|▍         | 446/10000 [00:01<00:30, 314.65it/s]"
     ]
    },
    {
     "name": "stdout",
     "output_type": "stream",
     "text": [
      "Iter: 400\n",
      "I_loss: 0.2422\n",
      "Loss_sqrt_PEHE_Out: 0.2982\n",
      "Loss_ATE_Out: 0.03038\n",
      "\n"
     ]
    },
    {
     "name": "stderr",
     "output_type": "stream",
     "text": [
      "  6%|▋         | 633/10000 [00:02<00:31, 295.58it/s]"
     ]
    },
    {
     "name": "stdout",
     "output_type": "stream",
     "text": [
      "Iter: 600\n",
      "I_loss: 0.2672\n",
      "Loss_sqrt_PEHE_Out: 0.2999\n",
      "Loss_ATE_Out: 0.02907\n",
      "\n"
     ]
    },
    {
     "name": "stderr",
     "output_type": "stream",
     "text": [
      "  8%|▊         | 839/10000 [00:02<00:27, 338.41it/s]"
     ]
    },
    {
     "name": "stdout",
     "output_type": "stream",
     "text": [
      "Iter: 800\n",
      "I_loss: 0.2063\n",
      "Loss_sqrt_PEHE_Out: 0.3042\n",
      "Loss_ATE_Out: 0.03114\n",
      "\n"
     ]
    },
    {
     "name": "stderr",
     "output_type": "stream",
     "text": [
      " 10%|█         | 1047/10000 [00:03<00:26, 335.72it/s]"
     ]
    },
    {
     "name": "stdout",
     "output_type": "stream",
     "text": [
      "Iter: 1000\n",
      "I_loss: 0.3389\n",
      "Loss_sqrt_PEHE_Out: 0.2977\n",
      "Loss_ATE_Out: 0.02432\n",
      "\n"
     ]
    },
    {
     "name": "stderr",
     "output_type": "stream",
     "text": [
      " 13%|█▎        | 1256/10000 [00:04<00:25, 336.58it/s]"
     ]
    },
    {
     "name": "stdout",
     "output_type": "stream",
     "text": [
      "Iter: 1200\n",
      "I_loss: 0.1952\n",
      "Loss_sqrt_PEHE_Out: 0.3023\n",
      "Loss_ATE_Out: 0.03154\n",
      "\n"
     ]
    },
    {
     "name": "stderr",
     "output_type": "stream",
     "text": [
      " 15%|█▍        | 1468/10000 [00:04<00:24, 343.13it/s]"
     ]
    },
    {
     "name": "stdout",
     "output_type": "stream",
     "text": [
      "Iter: 1400\n",
      "I_loss: 0.2904\n",
      "Loss_sqrt_PEHE_Out: 0.2984\n",
      "Loss_ATE_Out: 0.02447\n",
      "\n"
     ]
    },
    {
     "name": "stderr",
     "output_type": "stream",
     "text": [
      " 16%|█▋        | 1642/10000 [00:05<00:24, 339.55it/s]"
     ]
    },
    {
     "name": "stdout",
     "output_type": "stream",
     "text": [
      "Iter: 1600\n",
      "I_loss: 0.261\n",
      "Loss_sqrt_PEHE_Out: 0.2978\n",
      "Loss_ATE_Out: 0.029\n",
      "\n"
     ]
    },
    {
     "name": "stderr",
     "output_type": "stream",
     "text": [
      " 18%|█▊        | 1850/10000 [00:05<00:28, 290.97it/s]"
     ]
    },
    {
     "name": "stdout",
     "output_type": "stream",
     "text": [
      "Iter: 1800\n",
      "I_loss: 0.272\n",
      "Loss_sqrt_PEHE_Out: 0.2987\n",
      "Loss_ATE_Out: 0.02385\n",
      "\n"
     ]
    },
    {
     "name": "stderr",
     "output_type": "stream",
     "text": [
      " 20%|██        | 2040/10000 [00:06<00:26, 303.25it/s]"
     ]
    },
    {
     "name": "stdout",
     "output_type": "stream",
     "text": [
      "Iter: 2000\n",
      "I_loss: 0.194\n",
      "Loss_sqrt_PEHE_Out: 0.2983\n",
      "Loss_ATE_Out: 0.02979\n",
      "\n"
     ]
    },
    {
     "name": "stderr",
     "output_type": "stream",
     "text": [
      " 22%|██▏       | 2242/10000 [00:07<00:23, 334.08it/s]"
     ]
    },
    {
     "name": "stdout",
     "output_type": "stream",
     "text": [
      "Iter: 2200\n",
      "I_loss: 0.2132\n",
      "Loss_sqrt_PEHE_Out: 0.2968\n",
      "Loss_ATE_Out: 0.02172\n",
      "\n"
     ]
    },
    {
     "name": "stderr",
     "output_type": "stream",
     "text": [
      " 24%|██▍       | 2445/10000 [00:07<00:23, 315.80it/s]"
     ]
    },
    {
     "name": "stdout",
     "output_type": "stream",
     "text": [
      "Iter: 2400\n",
      "I_loss: 0.1479\n",
      "Loss_sqrt_PEHE_Out: 0.298\n",
      "Loss_ATE_Out: 0.028\n",
      "\n"
     ]
    },
    {
     "name": "stderr",
     "output_type": "stream",
     "text": [
      " 26%|██▋       | 2649/10000 [00:08<00:22, 327.65it/s]"
     ]
    },
    {
     "name": "stdout",
     "output_type": "stream",
     "text": [
      "Iter: 2600\n",
      "I_loss: 0.2901\n",
      "Loss_sqrt_PEHE_Out: 0.2959\n",
      "Loss_ATE_Out: 0.01462\n",
      "\n"
     ]
    },
    {
     "name": "stderr",
     "output_type": "stream",
     "text": [
      " 28%|██▊       | 2842/10000 [00:09<00:26, 275.24it/s]"
     ]
    },
    {
     "name": "stdout",
     "output_type": "stream",
     "text": [
      "Iter: 2800\n",
      "I_loss: 0.2579\n",
      "Loss_sqrt_PEHE_Out: 0.2961\n",
      "Loss_ATE_Out: 0.02387\n",
      "\n"
     ]
    },
    {
     "name": "stderr",
     "output_type": "stream",
     "text": [
      " 30%|███       | 3014/10000 [00:09<00:24, 290.34it/s]"
     ]
    },
    {
     "name": "stdout",
     "output_type": "stream",
     "text": [
      "Iter: 3000\n",
      "I_loss: 0.2423\n",
      "Loss_sqrt_PEHE_Out: 0.2957\n",
      "Loss_ATE_Out: 0.02135\n",
      "\n"
     ]
    },
    {
     "name": "stderr",
     "output_type": "stream",
     "text": [
      " 32%|███▏      | 3242/10000 [00:10<00:24, 273.14it/s]"
     ]
    },
    {
     "name": "stdout",
     "output_type": "stream",
     "text": [
      "Iter: 3200\n",
      "I_loss: 0.2283\n",
      "Loss_sqrt_PEHE_Out: 0.2956\n",
      "Loss_ATE_Out: 0.02015\n",
      "\n"
     ]
    },
    {
     "name": "stderr",
     "output_type": "stream",
     "text": [
      " 34%|███▍      | 3447/10000 [00:11<00:19, 334.49it/s]"
     ]
    },
    {
     "name": "stdout",
     "output_type": "stream",
     "text": [
      "Iter: 3400\n",
      "I_loss: 0.1909\n",
      "Loss_sqrt_PEHE_Out: 0.2955\n",
      "Loss_ATE_Out: 0.02078\n",
      "\n"
     ]
    },
    {
     "name": "stderr",
     "output_type": "stream",
     "text": [
      " 37%|███▋      | 3659/10000 [00:11<00:18, 345.84it/s]"
     ]
    },
    {
     "name": "stdout",
     "output_type": "stream",
     "text": [
      "Iter: 3600\n",
      "I_loss: 0.1756\n",
      "Loss_sqrt_PEHE_Out: 0.2953\n",
      "Loss_ATE_Out: 0.01929\n",
      "\n"
     ]
    },
    {
     "name": "stderr",
     "output_type": "stream",
     "text": [
      " 38%|███▊      | 3838/10000 [00:12<00:17, 349.25it/s]"
     ]
    },
    {
     "name": "stdout",
     "output_type": "stream",
     "text": [
      "Iter: 3800\n",
      "I_loss: 0.238\n",
      "Loss_sqrt_PEHE_Out: 0.2952\n",
      "Loss_ATE_Out: 0.01836\n",
      "\n"
     ]
    },
    {
     "name": "stderr",
     "output_type": "stream",
     "text": [
      " 40%|████      | 4050/10000 [00:12<00:17, 338.94it/s]"
     ]
    },
    {
     "name": "stdout",
     "output_type": "stream",
     "text": [
      "Iter: 4000\n",
      "I_loss: 0.2154\n",
      "Loss_sqrt_PEHE_Out: 0.2953\n",
      "Loss_ATE_Out: 0.02053\n",
      "\n"
     ]
    },
    {
     "name": "stderr",
     "output_type": "stream",
     "text": [
      " 43%|████▎     | 4262/10000 [00:13<00:16, 348.12it/s]"
     ]
    },
    {
     "name": "stdout",
     "output_type": "stream",
     "text": [
      "Iter: 4200\n",
      "I_loss: 0.2392\n",
      "Loss_sqrt_PEHE_Out: 0.295\n",
      "Loss_ATE_Out: 0.01764\n",
      "\n"
     ]
    },
    {
     "name": "stderr",
     "output_type": "stream",
     "text": [
      " 44%|████▍     | 4437/10000 [00:14<00:16, 339.63it/s]"
     ]
    },
    {
     "name": "stdout",
     "output_type": "stream",
     "text": [
      "Iter: 4400\n",
      "I_loss: 0.2312\n",
      "Loss_sqrt_PEHE_Out: 0.2948\n",
      "Loss_ATE_Out: 0.01553\n",
      "\n"
     ]
    },
    {
     "name": "stderr",
     "output_type": "stream",
     "text": [
      " 46%|████▋     | 4650/10000 [00:14<00:15, 346.46it/s]"
     ]
    },
    {
     "name": "stdout",
     "output_type": "stream",
     "text": [
      "Iter: 4600\n",
      "I_loss: 0.221\n",
      "Loss_sqrt_PEHE_Out: 0.2948\n",
      "Loss_ATE_Out: 0.01864\n",
      "\n"
     ]
    },
    {
     "name": "stderr",
     "output_type": "stream",
     "text": [
      " 48%|████▊     | 4825/10000 [00:15<00:17, 293.53it/s]"
     ]
    },
    {
     "name": "stdout",
     "output_type": "stream",
     "text": [
      "Iter: 4800\n",
      "I_loss: 0.2284\n",
      "Loss_sqrt_PEHE_Out: 0.2947\n",
      "Loss_ATE_Out: 0.01643\n",
      "\n"
     ]
    },
    {
     "name": "stderr",
     "output_type": "stream",
     "text": [
      " 51%|█████     | 5060/10000 [00:16<00:15, 326.72it/s]"
     ]
    },
    {
     "name": "stdout",
     "output_type": "stream",
     "text": [
      "Iter: 5000\n",
      "I_loss: 0.3179\n",
      "Loss_sqrt_PEHE_Out: 0.2946\n",
      "Loss_ATE_Out: 0.01539\n",
      "\n"
     ]
    },
    {
     "name": "stderr",
     "output_type": "stream",
     "text": [
      " 52%|█████▏    | 5237/10000 [00:16<00:13, 344.18it/s]"
     ]
    },
    {
     "name": "stdout",
     "output_type": "stream",
     "text": [
      "Iter: 5200\n",
      "I_loss: 0.09089\n",
      "Loss_sqrt_PEHE_Out: 0.2947\n",
      "Loss_ATE_Out: 0.01735\n",
      "\n"
     ]
    },
    {
     "name": "stderr",
     "output_type": "stream",
     "text": [
      " 54%|█████▍    | 5446/10000 [00:17<00:13, 339.72it/s]"
     ]
    },
    {
     "name": "stdout",
     "output_type": "stream",
     "text": [
      "Iter: 5400\n",
      "I_loss: 0.2574\n",
      "Loss_sqrt_PEHE_Out: 0.2948\n",
      "Loss_ATE_Out: 0.01176\n",
      "\n"
     ]
    },
    {
     "name": "stderr",
     "output_type": "stream",
     "text": [
      " 56%|█████▌    | 5624/10000 [00:17<00:15, 288.10it/s]"
     ]
    },
    {
     "name": "stdout",
     "output_type": "stream",
     "text": [
      "Iter: 5600\n",
      "I_loss: 0.15\n",
      "Loss_sqrt_PEHE_Out: 0.2945\n",
      "Loss_ATE_Out: 0.01518\n",
      "\n"
     ]
    },
    {
     "name": "stderr",
     "output_type": "stream",
     "text": [
      " 58%|█████▊    | 5839/10000 [00:18<00:17, 244.61it/s]"
     ]
    },
    {
     "name": "stdout",
     "output_type": "stream",
     "text": [
      "Iter: 5800\n",
      "I_loss: 0.2165\n",
      "Loss_sqrt_PEHE_Out: 0.2947\n",
      "Loss_ATE_Out: 0.01725\n",
      "\n"
     ]
    },
    {
     "name": "stderr",
     "output_type": "stream",
     "text": [
      " 60%|██████    | 6030/10000 [00:19<00:16, 234.24it/s]"
     ]
    },
    {
     "name": "stdout",
     "output_type": "stream",
     "text": [
      "Iter: 6000\n",
      "I_loss: 0.2454\n",
      "Loss_sqrt_PEHE_Out: 0.2947\n",
      "Loss_ATE_Out: 0.01721\n",
      "\n"
     ]
    },
    {
     "name": "stderr",
     "output_type": "stream",
     "text": [
      " 63%|██████▎   | 6251/10000 [00:20<00:12, 310.84it/s]"
     ]
    },
    {
     "name": "stdout",
     "output_type": "stream",
     "text": [
      "Iter: 6200\n",
      "I_loss: 0.1896\n",
      "Loss_sqrt_PEHE_Out: 0.2947\n",
      "Loss_ATE_Out: 0.01742\n",
      "\n"
     ]
    },
    {
     "name": "stderr",
     "output_type": "stream",
     "text": [
      " 64%|██████▍   | 6426/10000 [00:20<00:10, 340.90it/s]"
     ]
    },
    {
     "name": "stdout",
     "output_type": "stream",
     "text": [
      "Iter: 6400\n",
      "I_loss: 0.1806\n",
      "Loss_sqrt_PEHE_Out: 0.2946\n",
      "Loss_ATE_Out: 0.01515\n",
      "\n"
     ]
    },
    {
     "name": "stderr",
     "output_type": "stream",
     "text": [
      " 66%|██████▋   | 6626/10000 [00:21<00:12, 269.53it/s]"
     ]
    },
    {
     "name": "stdout",
     "output_type": "stream",
     "text": [
      "Iter: 6600\n",
      "I_loss: 0.266\n",
      "Loss_sqrt_PEHE_Out: 0.2947\n",
      "Loss_ATE_Out: 0.01741\n",
      "\n"
     ]
    },
    {
     "name": "stderr",
     "output_type": "stream",
     "text": [
      " 68%|██████▊   | 6840/10000 [00:22<00:10, 295.12it/s]"
     ]
    },
    {
     "name": "stdout",
     "output_type": "stream",
     "text": [
      "Iter: 6800\n",
      "I_loss: 0.1842\n",
      "Loss_sqrt_PEHE_Out: 0.2946\n",
      "Loss_ATE_Out: 0.01562\n",
      "\n"
     ]
    },
    {
     "name": "stderr",
     "output_type": "stream",
     "text": [
      " 71%|███████   | 7062/10000 [00:22<00:09, 317.83it/s]"
     ]
    },
    {
     "name": "stdout",
     "output_type": "stream",
     "text": [
      "Iter: 7000\n",
      "I_loss: 0.2479\n",
      "Loss_sqrt_PEHE_Out: 0.2946\n",
      "Loss_ATE_Out: 0.01579\n",
      "\n"
     ]
    },
    {
     "name": "stderr",
     "output_type": "stream",
     "text": [
      " 73%|███████▎  | 7270/10000 [00:23<00:08, 339.46it/s]"
     ]
    },
    {
     "name": "stdout",
     "output_type": "stream",
     "text": [
      "Iter: 7200\n",
      "I_loss: 0.2566\n",
      "Loss_sqrt_PEHE_Out: 0.2946\n",
      "Loss_ATE_Out: 0.01467\n",
      "\n"
     ]
    },
    {
     "name": "stderr",
     "output_type": "stream",
     "text": [
      " 74%|███████▍  | 7442/10000 [00:24<00:07, 331.73it/s]"
     ]
    },
    {
     "name": "stdout",
     "output_type": "stream",
     "text": [
      "Iter: 7400\n",
      "I_loss: 0.2231\n",
      "Loss_sqrt_PEHE_Out: 0.2948\n",
      "Loss_ATE_Out: 0.0147\n",
      "\n"
     ]
    },
    {
     "name": "stderr",
     "output_type": "stream",
     "text": [
      " 77%|███████▋  | 7654/10000 [00:24<00:06, 345.65it/s]"
     ]
    },
    {
     "name": "stdout",
     "output_type": "stream",
     "text": [
      "Iter: 7600\n",
      "I_loss: 0.1844\n",
      "Loss_sqrt_PEHE_Out: 0.2945\n",
      "Loss_ATE_Out: 0.014\n",
      "\n"
     ]
    },
    {
     "name": "stderr",
     "output_type": "stream",
     "text": [
      " 79%|███████▊  | 7864/10000 [00:25<00:06, 345.58it/s]"
     ]
    },
    {
     "name": "stdout",
     "output_type": "stream",
     "text": [
      "Iter: 7800\n",
      "I_loss: 0.1592\n",
      "Loss_sqrt_PEHE_Out: 0.2946\n",
      "Loss_ATE_Out: 0.01496\n",
      "\n"
     ]
    },
    {
     "name": "stderr",
     "output_type": "stream",
     "text": [
      " 80%|████████  | 8040/10000 [00:25<00:05, 336.16it/s]"
     ]
    },
    {
     "name": "stdout",
     "output_type": "stream",
     "text": [
      "Iter: 8000\n",
      "I_loss: 0.2136\n",
      "Loss_sqrt_PEHE_Out: 0.2945\n",
      "Loss_ATE_Out: 0.01513\n",
      "\n"
     ]
    },
    {
     "name": "stderr",
     "output_type": "stream",
     "text": [
      " 83%|████████▎ | 8253/10000 [00:26<00:04, 353.99it/s]"
     ]
    },
    {
     "name": "stdout",
     "output_type": "stream",
     "text": [
      "Iter: 8200\n",
      "I_loss: 0.2537\n",
      "Loss_sqrt_PEHE_Out: 0.2945\n",
      "Loss_ATE_Out: 0.01463\n",
      "\n"
     ]
    },
    {
     "name": "stderr",
     "output_type": "stream",
     "text": [
      " 85%|████████▍ | 8466/10000 [00:27<00:04, 341.65it/s]"
     ]
    },
    {
     "name": "stdout",
     "output_type": "stream",
     "text": [
      "Iter: 8400\n",
      "I_loss: 0.2319\n",
      "Loss_sqrt_PEHE_Out: 0.2947\n",
      "Loss_ATE_Out: 0.01474\n",
      "\n"
     ]
    },
    {
     "name": "stderr",
     "output_type": "stream",
     "text": [
      " 86%|████████▋ | 8643/10000 [00:27<00:03, 345.55it/s]"
     ]
    },
    {
     "name": "stdout",
     "output_type": "stream",
     "text": [
      "Iter: 8600\n",
      "I_loss: 0.2351\n",
      "Loss_sqrt_PEHE_Out: 0.2947\n",
      "Loss_ATE_Out: 0.01255\n",
      "\n"
     ]
    },
    {
     "name": "stderr",
     "output_type": "stream",
     "text": [
      " 89%|████████▊ | 8855/10000 [00:28<00:03, 341.64it/s]"
     ]
    },
    {
     "name": "stdout",
     "output_type": "stream",
     "text": [
      "Iter: 8800\n",
      "I_loss: 0.2843\n",
      "Loss_sqrt_PEHE_Out: 0.2947\n",
      "Loss_ATE_Out: 0.01428\n",
      "\n"
     ]
    },
    {
     "name": "stderr",
     "output_type": "stream",
     "text": [
      " 91%|█████████ | 9067/10000 [00:28<00:02, 341.10it/s]"
     ]
    },
    {
     "name": "stdout",
     "output_type": "stream",
     "text": [
      "Iter: 9000\n",
      "I_loss: 0.1974\n",
      "Loss_sqrt_PEHE_Out: 0.2948\n",
      "Loss_ATE_Out: 0.01443\n",
      "\n"
     ]
    },
    {
     "name": "stderr",
     "output_type": "stream",
     "text": [
      " 92%|█████████▏| 9242/10000 [00:29<00:02, 340.77it/s]"
     ]
    },
    {
     "name": "stdout",
     "output_type": "stream",
     "text": [
      "Iter: 9200\n",
      "I_loss: 0.2462\n",
      "Loss_sqrt_PEHE_Out: 0.2946\n",
      "Loss_ATE_Out: 0.01478\n",
      "\n"
     ]
    },
    {
     "name": "stderr",
     "output_type": "stream",
     "text": [
      " 95%|█████████▍| 9452/10000 [00:30<00:01, 340.01it/s]"
     ]
    },
    {
     "name": "stdout",
     "output_type": "stream",
     "text": [
      "Iter: 9400\n",
      "I_loss: 0.2303\n",
      "Loss_sqrt_PEHE_Out: 0.2945\n",
      "Loss_ATE_Out: 0.01464\n",
      "\n"
     ]
    },
    {
     "name": "stderr",
     "output_type": "stream",
     "text": [
      " 97%|█████████▋| 9655/10000 [00:30<00:01, 313.49it/s]"
     ]
    },
    {
     "name": "stdout",
     "output_type": "stream",
     "text": [
      "Iter: 9600\n",
      "I_loss: 0.2605\n",
      "Loss_sqrt_PEHE_Out: 0.2948\n",
      "Loss_ATE_Out: 0.01521\n",
      "\n"
     ]
    },
    {
     "name": "stderr",
     "output_type": "stream",
     "text": [
      " 99%|█████████▊| 9860/10000 [00:31<00:00, 335.19it/s]"
     ]
    },
    {
     "name": "stdout",
     "output_type": "stream",
     "text": [
      "Iter: 9800\n",
      "I_loss: 0.2508\n",
      "Loss_sqrt_PEHE_Out: 0.2948\n",
      "Loss_ATE_Out: 0.01728\n",
      "\n"
     ]
    },
    {
     "name": "stderr",
     "output_type": "stream",
     "text": [
      "100%|██████████| 10000/10000 [00:31<00:00, 315.35it/s]\n"
     ]
    }
   ],
   "source": [
    "metrics = model.fit(Train_X, Train_T, Train_Y, Test_X, Test_Y)"
   ]
  },
  {
   "cell_type": "markdown",
   "metadata": {},
   "source": [
    "### Plot train metrics on the test set"
   ]
  },
  {
   "cell_type": "code",
   "execution_count": 8,
   "metadata": {},
   "outputs": [
    {
     "data": {
      "image/png": "[encoded data removed]",
      "text/plain": [
       "<Figure size 432x288 with 1 Axes>"
      ]
     },
     "metadata": {
      "needs_background": "light"
     },
     "output_type": "display_data"
    },
    {
     "data": {
      "image/png": "[encoded data removed]",
      "text/plain": [
       "<Figure size 432x288 with 1 Axes>"
      ]
     },
     "metadata": {
      "needs_background": "light"
     },
     "output_type": "display_data"
    }
   ],
   "source": [
    "plt.plot(metrics[\"gen_block\"][\"D_loss\"], label=\"Cf Discriminator loss\")\n",
    "plt.plot(metrics[\"gen_block\"][\"G_loss\"], label=\"Cf Generator loss\")\n",
    "plt.legend()\n",
    "plt.show()\n",
    "\n",
    "plt.plot(metrics[\"ite_block\"][\"I_loss\"], label=\"ITE loss\")\n",
    "plt.plot(metrics[\"ite_block\"][\"Loss_sqrt_PEHE\"], label=\"Loss_PEHE\")\n",
    "plt.plot(metrics[\"ite_block\"][\"Loss_ATE\"], label=\"Loss_ATE\")\n",
    "plt.legend()\n",
    "plt.show()"
   ]
  },
  {
   "cell_type": "markdown",
   "metadata": {},
   "source": [
    "### Test\n",
    "Will can run inferences and get metrics directly"
   ]
  },
  {
   "cell_type": "code",
   "execution_count": 19,
   "metadata": {},
   "outputs": [
    {
     "data": {
      "text/plain": [
       "0.2946113348007202"
      ]
     },
     "execution_count": 19,
     "metadata": {},
     "output_type": "execute_result"
    }
   ],
   "source": [
    "test_metrics = model.test(Test_X, Test_Y)\n",
    "\n",
    "test_metrics[\"sqrt_PEHE\"]"
   ]
  },
  {
   "cell_type": "code",
   "execution_count": null,
   "metadata": {},
   "outputs": [],
   "source": []
  }
 ],
 "metadata": {
  "kernelspec": {
   "display_name": "cambridge",
   "language": "python",
   "name": "cambridge"
  },
  "language_info": {
   "codemirror_mode": {
    "name": "ipython",
    "version": 3
   },
   "file_extension": ".py",
   "mimetype": "text/x-python",
   "name": "python",
   "nbconvert_exporter": "python",
   "pygments_lexer": "ipython3",
   "version": "3.8.5"
  }
 },
 "nbformat": 4,
 "nbformat_minor": 4
}
