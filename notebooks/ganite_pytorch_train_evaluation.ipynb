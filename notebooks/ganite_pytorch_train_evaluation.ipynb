{
 "cells": [
  {
   "cell_type": "markdown",
   "metadata": {},
   "source": [
    "## GANITE(PyTorch): Train and Evaluation"
   ]
  },
  {
   "cell_type": "markdown",
   "metadata": {},
   "source": [
    "This notebook presents the solution for training and evaluating the __GANITE__ algorithm(__PyToch__ version) over the [Twins](https://bitbucket.org/mvdschaar/mlforhealthlabpub/src/master/data/twins/) dataset.\n",
    "\n",
    "The implementation of GANITE is adapted in the local `ite` library. For the Unified API version, check [this notebook](https://github.com/bcebere/ite-api/blob/main/notebooks/unified_api_train_evaluation.ipynb)."
   ]
  },
  {
   "cell_type": "markdown",
   "metadata": {},
   "source": [
    "## GANITE\n",
    "\n",
    "Estimating Individualized Treatment Effects(__ITE__) is the task that approximates whether a given treatment influences or determines an outcome([read more](https://www.vanderschaar-lab.com/individualized-treatment-effect-inference/)).\n",
    "\n",
    "[__GANITE__](https://openreview.net/pdf?id=ByKWUeWA-)(Generative Adversarial Nets for inference of Individualized Treatment Effects) is a framework for inferring the ITE using GANs.\n",
    "\n",
    "The implementation demonstrated in this notebook is [here](https://github.com/bcebere/ite-api/tree/main/src/ite/algs/ganite_torch) and is adapted from [this implementation](https://bitbucket.org/mvdschaar/mlforhealthlabpub/src/master/alg/ganite/)."
   ]
  },
  {
   "cell_type": "markdown",
   "metadata": {},
   "source": [
    "## Setup\n",
    "\n",
    "\n",
    "First, make sure that all the depends are installed in the current environment.\n",
    "```\n",
    "pip install -r requirements.txt\n",
    "pip install .\n",
    "```\n",
    "\n",
    "Next, we import all the dependencies necessary for the task."
   ]
  },
  {
   "cell_type": "code",
   "execution_count": 1,
   "metadata": {},
   "outputs": [
    {
     "name": "stdout",
     "output_type": "stream",
     "text": [
      "/home/bcebere/anaconda3/envs/cambridge/bin/python\n",
      "WARNING:tensorflow:From /home/bcebere/anaconda3/envs/cambridge/lib/python3.8/site-packages/tensorflow/python/compat/v2_compat.py:96: disable_resource_variables (from tensorflow.python.ops.variable_scope) is deprecated and will be removed in a future version.\n",
      "Instructions for updating:\n",
      "non-resource variables are not supported in the long term\n"
     ]
    }
   ],
   "source": [
    "# Double check that we are using the correct interpreter.\n",
    "import sys\n",
    "print(sys.executable)\n",
    "    \n",
    "# Import depends\n",
    "import ite.algs.ganite_torch.model as alg\n",
    "import ite.datasets as ds\n",
    "import ite.utils.numpy as utils\n",
    "\n",
    "from matplotlib import pyplot as plt\n",
    "import torch\n",
    "import pandas as pd"
   ]
  },
  {
   "cell_type": "markdown",
   "metadata": {},
   "source": [
    "## Load the Dataset\n",
    "\n",
    "The example is done using the [Twins](https://bitbucket.org/mvdschaar/mlforhealthlabpub/src/master/data/twins/) dataset.\n",
    "\n",
    "Next, we load the dataset, process the data, and sample a training set and a test set.\n",
    "\n",
    "The logic is implemented [here](https://github.com/bcebere/ite-api/tree/main/src/ite/datasets), and it adapted from the original [GANITE pre-processing implementation](https://bitbucket.org/mvdschaar/mlforhealthlabpub/src/master/alg/ganite/data_preprocessing_ganite.py)."
   ]
  },
  {
   "cell_type": "code",
   "execution_count": 2,
   "metadata": {},
   "outputs": [
    {
     "data": {
      "text/html": [
       "<div>\n",
       "<style scoped>\n",
       "    .dataframe tbody tr th:only-of-type {\n",
       "        vertical-align: middle;\n",
       "    }\n",
       "\n",
       "    .dataframe tbody tr th {\n",
       "        vertical-align: top;\n",
       "    }\n",
       "\n",
       "    .dataframe thead th {\n",
       "        text-align: right;\n",
       "    }\n",
       "</style>\n",
       "<table border=\"1\" class=\"dataframe\">\n",
       "  <thead>\n",
       "    <tr style=\"text-align: right;\">\n",
       "      <th></th>\n",
       "      <th>0</th>\n",
       "      <th>1</th>\n",
       "      <th>2</th>\n",
       "      <th>3</th>\n",
       "      <th>4</th>\n",
       "      <th>5</th>\n",
       "      <th>6</th>\n",
       "      <th>7</th>\n",
       "      <th>8</th>\n",
       "      <th>9</th>\n",
       "      <th>...</th>\n",
       "      <th>20</th>\n",
       "      <th>21</th>\n",
       "      <th>22</th>\n",
       "      <th>23</th>\n",
       "      <th>24</th>\n",
       "      <th>25</th>\n",
       "      <th>26</th>\n",
       "      <th>27</th>\n",
       "      <th>28</th>\n",
       "      <th>29</th>\n",
       "    </tr>\n",
       "  </thead>\n",
       "  <tbody>\n",
       "    <tr>\n",
       "      <th>0</th>\n",
       "      <td>1.0</td>\n",
       "      <td>2.0</td>\n",
       "      <td>2.0</td>\n",
       "      <td>2.0</td>\n",
       "      <td>2.0</td>\n",
       "      <td>2.0</td>\n",
       "      <td>2.0</td>\n",
       "      <td>2.0</td>\n",
       "      <td>2.0</td>\n",
       "      <td>2.0</td>\n",
       "      <td>...</td>\n",
       "      <td>32.0</td>\n",
       "      <td>1.0</td>\n",
       "      <td>30.0</td>\n",
       "      <td>30.0</td>\n",
       "      <td>15.0</td>\n",
       "      <td>1.0</td>\n",
       "      <td>2.0</td>\n",
       "      <td>2.0</td>\n",
       "      <td>15.0</td>\n",
       "      <td>1.0</td>\n",
       "    </tr>\n",
       "    <tr>\n",
       "      <th>1</th>\n",
       "      <td>5.0</td>\n",
       "      <td>2.0</td>\n",
       "      <td>2.0</td>\n",
       "      <td>2.0</td>\n",
       "      <td>2.0</td>\n",
       "      <td>2.0</td>\n",
       "      <td>2.0</td>\n",
       "      <td>2.0</td>\n",
       "      <td>2.0</td>\n",
       "      <td>2.0</td>\n",
       "      <td>...</td>\n",
       "      <td>14.0</td>\n",
       "      <td>4.0</td>\n",
       "      <td>35.0</td>\n",
       "      <td>29.0</td>\n",
       "      <td>8.0</td>\n",
       "      <td>1.0</td>\n",
       "      <td>1.0</td>\n",
       "      <td>5.0</td>\n",
       "      <td>3.0</td>\n",
       "      <td>3.0</td>\n",
       "    </tr>\n",
       "    <tr>\n",
       "      <th>2</th>\n",
       "      <td>1.0</td>\n",
       "      <td>2.0</td>\n",
       "      <td>2.0</td>\n",
       "      <td>2.0</td>\n",
       "      <td>2.0</td>\n",
       "      <td>2.0</td>\n",
       "      <td>2.0</td>\n",
       "      <td>2.0</td>\n",
       "      <td>2.0</td>\n",
       "      <td>2.0</td>\n",
       "      <td>...</td>\n",
       "      <td>30.0</td>\n",
       "      <td>1.0</td>\n",
       "      <td>33.0</td>\n",
       "      <td>29.0</td>\n",
       "      <td>12.0</td>\n",
       "      <td>2.0</td>\n",
       "      <td>1.0</td>\n",
       "      <td>5.0</td>\n",
       "      <td>10.0</td>\n",
       "      <td>2.0</td>\n",
       "    </tr>\n",
       "    <tr>\n",
       "      <th>3</th>\n",
       "      <td>1.0</td>\n",
       "      <td>2.0</td>\n",
       "      <td>2.0</td>\n",
       "      <td>2.0</td>\n",
       "      <td>2.0</td>\n",
       "      <td>2.0</td>\n",
       "      <td>2.0</td>\n",
       "      <td>2.0</td>\n",
       "      <td>2.0</td>\n",
       "      <td>2.0</td>\n",
       "      <td>...</td>\n",
       "      <td>22.0</td>\n",
       "      <td>1.0</td>\n",
       "      <td>32.0</td>\n",
       "      <td>36.0</td>\n",
       "      <td>17.0</td>\n",
       "      <td>1.0</td>\n",
       "      <td>2.0</td>\n",
       "      <td>2.0</td>\n",
       "      <td>15.0</td>\n",
       "      <td>1.0</td>\n",
       "    </tr>\n",
       "    <tr>\n",
       "      <th>4</th>\n",
       "      <td>2.0</td>\n",
       "      <td>2.0</td>\n",
       "      <td>2.0</td>\n",
       "      <td>2.0</td>\n",
       "      <td>2.0</td>\n",
       "      <td>2.0</td>\n",
       "      <td>2.0</td>\n",
       "      <td>2.0</td>\n",
       "      <td>2.0</td>\n",
       "      <td>2.0</td>\n",
       "      <td>...</td>\n",
       "      <td>17.0</td>\n",
       "      <td>1.0</td>\n",
       "      <td>28.0</td>\n",
       "      <td>32.0</td>\n",
       "      <td>13.0</td>\n",
       "      <td>1.0</td>\n",
       "      <td>2.0</td>\n",
       "      <td>1.0</td>\n",
       "      <td>13.0</td>\n",
       "      <td>1.0</td>\n",
       "    </tr>\n",
       "  </tbody>\n",
       "</table>\n",
       "<p>5 rows × 30 columns</p>\n",
       "</div>"
      ],
      "text/plain": [
       "    0    1    2    3    4    5    6    7    8    9   ...    20   21    22  \\\n",
       "0  1.0  2.0  2.0  2.0  2.0  2.0  2.0  2.0  2.0  2.0  ...  32.0  1.0  30.0   \n",
       "1  5.0  2.0  2.0  2.0  2.0  2.0  2.0  2.0  2.0  2.0  ...  14.0  4.0  35.0   \n",
       "2  1.0  2.0  2.0  2.0  2.0  2.0  2.0  2.0  2.0  2.0  ...  30.0  1.0  33.0   \n",
       "3  1.0  2.0  2.0  2.0  2.0  2.0  2.0  2.0  2.0  2.0  ...  22.0  1.0  32.0   \n",
       "4  2.0  2.0  2.0  2.0  2.0  2.0  2.0  2.0  2.0  2.0  ...  17.0  1.0  28.0   \n",
       "\n",
       "     23    24   25   26   27    28   29  \n",
       "0  30.0  15.0  1.0  2.0  2.0  15.0  1.0  \n",
       "1  29.0   8.0  1.0  1.0  5.0   3.0  3.0  \n",
       "2  29.0  12.0  2.0  1.0  5.0  10.0  2.0  \n",
       "3  36.0  17.0  1.0  2.0  2.0  15.0  1.0  \n",
       "4  32.0  13.0  1.0  2.0  1.0  13.0  1.0  \n",
       "\n",
       "[5 rows x 30 columns]"
      ]
     },
     "execution_count": 2,
     "metadata": {},
     "output_type": "execute_result"
    }
   ],
   "source": [
    "train_ratio = 0.8\n",
    " \n",
    "dataset = ds.load(\"twins\", train_ratio)\n",
    "[Train_X, Train_T, Train_Y, Opt_Train_Y, Test_X, Test_Y] = dataset\n",
    "\n",
    "pd.DataFrame(data=Train_X[:5])"
   ]
  },
  {
   "cell_type": "markdown",
   "metadata": {},
   "source": [
    "## Load the model\n",
    "\n",
    "Next, we define the model.\n",
    "\n",
    "\n",
    "The constructor supports the following parameters:\n",
    " - `dim`: The number of features in X.\n",
    " - `dim_outcome`: The number of potential outcomes.\n",
    " - `dim_hidden`: hyperparameter for tuning the size of the hidden layer.\n",
    " - `depth`: hyperparameter for the number of hidden layers in the generator and inference blocks.\n",
    " - `num_iterations`: hyperparameter for the number of training epochs.\n",
    " - `alpha`: hyperparameter used for the Generator block loss.\n",
    " - `beta`: hyperparameter used for the ITE block loss.\n",
    " - `num_discr_iterations`: number of iterations executed by the discriminator.\n",
    " - `minibatch_size`: the size of the dataset batches.\n",
    " \n",
    " The hyperparameters used in this notebook are computed using the [hyperparameter tuning notebook](https://github.com/bcebere/ite-api/blob/main/notebooks/hyperparam_tuning.ipynb)."
   ]
  },
  {
   "cell_type": "code",
   "execution_count": 3,
   "metadata": {},
   "outputs": [],
   "source": [
    "dim = len(Train_X[0])\n",
    "dim_outcome = Test_Y.shape[1]\n",
    " \n",
    "model = alg.GaniteTorch(\n",
    "    dim,\n",
    "    dim_outcome,\n",
    "    dim_hidden=30,\n",
    "    num_iterations=3000,\n",
    "    alpha=1,\n",
    "    beta=10,\n",
    "    minibatch_size=256,\n",
    "    num_discr_iterations=6,\n",
    "    depth=5,\n",
    ")\n",
    "\n",
    "assert model is not None"
   ]
  },
  {
   "cell_type": "markdown",
   "metadata": {},
   "source": [
    "### Train"
   ]
  },
  {
   "cell_type": "code",
   "execution_count": 4,
   "metadata": {},
   "outputs": [
    {
     "name": "stderr",
     "output_type": "stream",
     "text": [
      "  0%|          | 0/3000 [00:00<?, ?it/s] /home/bcebere/anaconda3/envs/cambridge/lib/python3.8/site-packages/torch/autograd/__init__.py:130: UserWarning:CUDA initialization: Found no NVIDIA driver on your system. Please check that you have an NVIDIA GPU and installed a driver from http://www.nvidia.com/Download/index.aspx (Triggered internally at  /pytorch/c10/cuda/CUDAFunctions.cpp:100.)\n",
      "100%|██████████| 3000/3000 [01:16<00:00, 39.41it/s]\n",
      "100%|██████████| 3000/3000 [00:14<00:00, 205.85it/s]\n"
     ]
    }
   ],
   "source": [
    "metrics = model.train(*dataset)"
   ]
  },
  {
   "cell_type": "markdown",
   "metadata": {},
   "source": [
    "### Plot train metrics"
   ]
  },
  {
   "cell_type": "code",
   "execution_count": 5,
   "metadata": {},
   "outputs": [
    {
     "name": "stdout",
     "output_type": "stream",
     "text": [
      "Counterfactual Block:\n",
      " - Discriminator loss: 0.693 +/- 0.000\n",
      " - Generator loss: -0.671 +/- 0.036\n",
      "ITE Block:\n",
      " - ITE loss: 0.992 +/- 0.233\n",
      "ITE Block in-sample metrics:\n",
      " - sqrt_PEHE: 0.292 +/- 0.001\n",
      " - ATE: 0.021 +/- 0.006\n",
      "ITE Block out-sample metrics:\n",
      " - sqrt_PEHE: 0.292 +/- 0.001\n",
      " - ATE: 0.016 +/- 0.006\n"
     ]
    },
    {
     "data": {
      "image/png": "[encoded data removed]",
      "text/plain": [
       "<Figure size 1080x1584 with 4 Axes>"
      ]
     },
     "metadata": {
      "needs_background": "light"
     },
     "output_type": "display_data"
    }
   ],
   "source": [
    "metrics.print()\n",
    "\n",
    "metrics.plot(plt, thresholds = [0.2, 0.25, 0.3, 0.35])"
   ]
  },
  {
   "cell_type": "markdown",
   "metadata": {},
   "source": [
    "### Predict"
   ]
  },
  {
   "cell_type": "code",
   "execution_count": 6,
   "metadata": {},
   "outputs": [
    {
     "data": {
      "text/plain": [
       "0.29133304781675445"
      ]
     },
     "execution_count": 6,
     "metadata": {},
     "output_type": "execute_result"
    }
   ],
   "source": [
    "hat_y = model.predict(Test_X)\n",
    "\n",
    "utils.sqrt_PEHE(hat_y.to_numpy(), Test_Y)"
   ]
  },
  {
   "cell_type": "markdown",
   "metadata": {},
   "source": [
    "### Test\n",
    "Will can run inferences and get metrics directly"
   ]
  },
  {
   "cell_type": "code",
   "execution_count": 7,
   "metadata": {},
   "outputs": [
    {
     "name": "stdout",
     "output_type": "stream",
     "text": [
      "sqrt_PHE = 0.291\n",
      "ATE = 0.014\n",
      "Top 5 worst mistakes(indices) = [ 434 1727 1742  770 1824]\n"
     ]
    }
   ],
   "source": [
    "test_metrics = model.test(Test_X, Test_Y)\n",
    "\n",
    "test_metrics.print()"
   ]
  },
  {
   "cell_type": "markdown",
   "metadata": {},
   "source": [
    "## References\n",
    "\n",
    "1. Jinsung Yoon, James Jordon, Mihaela van der Schaar, \"GANITE: Estimation of Individualized Treatment Effects using Generative Adversarial Nets\", International Conference on Learning Representations (ICLR), 2018 ([Paper](https://openreview.net/forum?id=ByKWUeWA-)).\n",
    "2. [GANITE Reference implementation](https://bitbucket.org/mvdschaar/mlforhealthlabpub/src/master/alg/ganite/)."
   ]
  },
  {
   "cell_type": "code",
   "execution_count": null,
   "metadata": {},
   "outputs": [],
   "source": []
  }
 ],
 "metadata": {
  "kernelspec": {
   "display_name": "cambridge",
   "language": "python",
   "name": "cambridge"
  },
  "language_info": {
   "codemirror_mode": {
    "name": "ipython",
    "version": 3
   },
   "file_extension": ".py",
   "mimetype": "text/x-python",
   "name": "python",
   "nbconvert_exporter": "python",
   "pygments_lexer": "ipython3",
   "version": "3.8.5"
  }
 },
 "nbformat": 4,
 "nbformat_minor": 4
}
