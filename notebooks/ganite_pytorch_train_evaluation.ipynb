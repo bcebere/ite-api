{
 "cells": [
  {
   "cell_type": "markdown",
   "metadata": {},
   "source": [
    "## GANITE(PyTorch): Train and Evaluation"
   ]
  },
  {
   "cell_type": "markdown",
   "metadata": {},
   "source": [
    "This notebook presents the solution for training and evaluating GANITE(PyTorch version).\n",
    "\n",
    "The implementation of GANITE is adapted in the local `ite` library.\n",
    "\n",
    "First, make sure that all the depends are installed.\n",
    "```\n",
    "pip install -r requirements.txt\n",
    "pip install .\n",
    "```"
   ]
  },
  {
   "cell_type": "markdown",
   "metadata": {},
   "source": [
    "### Setup\n",
    "\n",
    "First, we import all the dependencies necessary for the task."
   ]
  },
  {
   "cell_type": "code",
   "execution_count": null,
   "metadata": {},
   "outputs": [],
   "source": [
    "# Double check that we are using the correct interpreter.\n",
    "import sys\n",
    "print(sys.executable)\n",
    "    \n",
    "# Import depends\n",
    "import ite.algs.ganite_torch.model as alg\n",
    "import ite.datasets as ds\n",
    "import ite.utils.numpy as utils\n",
    "\n",
    "from matplotlib import pyplot as plt\n",
    "import torch"
   ]
  },
  {
   "cell_type": "markdown",
   "metadata": {},
   "source": [
    "### Load the Dataset\n",
    "\n"
   ]
  },
  {
   "cell_type": "code",
   "execution_count": null,
   "metadata": {},
   "outputs": [],
   "source": [
    "train_ratio = 0.8\n",
    " \n",
    "[Train_X, Train_T, Train_Y, Opt_Train_Y, Test_X, Test_Y] = ds.load(\"twins\", train_ratio)"
   ]
  },
  {
   "cell_type": "markdown",
   "metadata": {},
   "source": [
    "### Load the model"
   ]
  },
  {
   "cell_type": "code",
   "execution_count": null,
   "metadata": {},
   "outputs": [],
   "source": [
    "dim = len(Train_X[0])\n",
    "dim_hidden = 8\n",
    "dim_outcome = Test_Y.shape[1]\n",
    " \n",
    "model = alg.GaniteTorch(\n",
    "    dim, # number of features\n",
    "    dim_hidden, # size of the hidden layers\n",
    "    dim_outcome, # size of the output\n",
    "    num_iterations=10000, # number of training iterations\n",
    "    alpha=2, # alpha hyperparameter, used for the Generator block loss\n",
    "    beta=2, # beta hyperparameter, used for the ITE block loss\n",
    "    minibatch_size=128, # data batch size\n",
    "    num_discr_iterations=10, # number of iterations executed by the discriminator.\n",
    ")\n",
    "\n",
    "assert model is not None"
   ]
  },
  {
   "cell_type": "markdown",
   "metadata": {},
   "source": [
    "### Train"
   ]
  },
  {
   "cell_type": "code",
   "execution_count": null,
   "metadata": {},
   "outputs": [],
   "source": [
    "metrics = model.fit(Train_X, Train_T, Train_Y, Test_X, Test_Y)"
   ]
  },
  {
   "cell_type": "markdown",
   "metadata": {},
   "source": [
    "### Plot train metrics on the test set"
   ]
  },
  {
   "cell_type": "code",
   "execution_count": null,
   "metadata": {},
   "outputs": [],
   "source": [
    "plt.plot(metrics[\"gen_block\"][\"D_loss\"], label=\"Cf Discriminator loss\")\n",
    "plt.plot(metrics[\"gen_block\"][\"G_loss\"], label=\"Cf Generator loss\")\n",
    "plt.legend()\n",
    "plt.show()\n",
    "\n",
    "plt.plot(metrics[\"ite_block\"][\"I_loss\"], label=\"ITE loss\")\n",
    "plt.plot(metrics[\"ite_block\"][\"Loss_sqrt_PEHE\"], label=\"Loss_PEHE\")\n",
    "plt.plot(metrics[\"ite_block\"][\"Loss_ATE\"], label=\"Loss_ATE\")\n",
    "plt.legend()\n",
    "plt.show()"
   ]
  },
  {
   "cell_type": "markdown",
   "metadata": {},
   "source": [
    "### Predict"
   ]
  },
  {
   "cell_type": "code",
   "execution_count": null,
   "metadata": {},
   "outputs": [],
   "source": [
    "hat_y = model.predict(Test_X)\n",
    "\n",
    "print(type(hat_y), type(Test_X))\n",
    "utils.sqrt_PEHE(hat_y.to_numpy(), Test_Y)"
   ]
  },
  {
   "cell_type": "markdown",
   "metadata": {},
   "source": [
    "### Test\n",
    "Will can run inferences and get metrics directly"
   ]
  },
  {
   "cell_type": "code",
   "execution_count": null,
   "metadata": {},
   "outputs": [],
   "source": [
    "test_metrics = model.test(Test_X, Test_Y)\n",
    "\n",
    "test_metrics[\"sqrt_PEHE\"]"
   ]
  },
  {
   "cell_type": "code",
   "execution_count": null,
   "metadata": {},
   "outputs": [],
   "source": []
  }
 ],
 "metadata": {
  "kernelspec": {
   "display_name": "cambridge",
   "language": "python",
   "name": "cambridge"
  },
  "language_info": {
   "codemirror_mode": {
    "name": "ipython",
    "version": 3
   },
   "file_extension": ".py",
   "mimetype": "text/x-python",
   "name": "python",
   "nbconvert_exporter": "python",
   "pygments_lexer": "ipython3",
   "version": "3.8.5"
  }
 },
 "nbformat": 4,
 "nbformat_minor": 4
}
