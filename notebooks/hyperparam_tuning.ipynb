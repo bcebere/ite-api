{
 "cells": [
  {
   "cell_type": "markdown",
   "id": "racial-shirt",
   "metadata": {},
   "source": [
    "## Hyper-parameter tuning "
   ]
  },
  {
   "cell_type": "code",
   "execution_count": null,
   "id": "educational-visiting",
   "metadata": {},
   "outputs": [],
   "source": []
  },
  {
   "cell_type": "markdown",
   "id": "cardiovascular-meeting",
   "metadata": {},
   "source": [
    "### Setup"
   ]
  },
  {
   "cell_type": "code",
   "execution_count": null,
   "id": "controlled-designer",
   "metadata": {},
   "outputs": [],
   "source": [
    "import ite.algs.hyperparam_tuning as tuning"
   ]
  },
  {
   "cell_type": "markdown",
   "id": "ranging-blogger",
   "metadata": {},
   "source": [
    "### GANITE(Tensorflow)"
   ]
  },
  {
   "cell_type": "code",
   "execution_count": null,
   "id": "closed-dallas",
   "metadata": {},
   "outputs": [],
   "source": []
  },
  {
   "cell_type": "markdown",
   "id": "following-interval",
   "metadata": {},
   "source": [
    "### GANITE (PyTorch)"
   ]
  }
 ],
 "metadata": {
  "kernelspec": {
   "display_name": "cambridge",
   "language": "python",
   "name": "cambridge"
  },
  "language_info": {
   "codemirror_mode": {
    "name": "ipython",
    "version": 3
   },
   "file_extension": ".py",
   "mimetype": "text/x-python",
   "name": "python",
   "nbconvert_exporter": "python",
   "pygments_lexer": "ipython3",
   "version": "3.8.5"
  }
 },
 "nbformat": 4,
 "nbformat_minor": 5
}
