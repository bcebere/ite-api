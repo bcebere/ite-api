{
 "cells": [
  {
   "cell_type": "markdown",
   "metadata": {},
   "source": [
    "# Ganite\n",
    "\n",
    "This tutorial shows how to use Ganite to estimate treatment effects. Follow link [GANITE](https://openreview.net/forum?id=ByKWUeWA-) for more details. We are using the [Twins](https://www.nber.org/data/linked-birth-infant-death-data-vital-statistics-data.html) dataset as an example.\n",
    "\n",
    "Preprocess and prepare the dataset for Ganite:"
   ]
  },
  {
   "cell_type": "code",
   "execution_count": null,
   "metadata": {},
   "outputs": [],
   "source": [
    "trnx,trny, trnt = 'trainx.csv', 'trainy.csv', 'traint.csv'\n",
    "tstx,tsty, tstt = 'testx.csv', 'testy.csv', 'testt.csv'\n",
    "yhat = './yhat.csv'\n",
    "ds = 'twins'\n",
    "python_exe = 'python3'\n",
    "\n",
    "!{python_exe} data_preprocessing_ganite.py --dataset {ds}  --trainx {trnx} --trainy {trny} --traint {trnt} --testx {tstx} --testy {tsty} --testt {tstt}"
   ]
  },
  {
   "cell_type": "markdown",
   "metadata": {},
   "source": [
    "Run Ganite:"
   ]
  },
  {
   "cell_type": "code",
   "execution_count": null,
   "metadata": {},
   "outputs": [],
   "source": [
    "it = 1000\n",
    "\n",
    "!{python_exe} ganite.py --it {it} -ocsv {yhat} --trainx {trnx} --trainy {trny} --traint {trnt} --testx {tstx} --testy {tsty}"
   ]
  },
  {
   "cell_type": "markdown",
   "metadata": {},
   "source": [
    "Show estimated treatment effects"
   ]
  },
  {
   "cell_type": "code",
   "execution_count": null,
   "metadata": {},
   "outputs": [],
   "source": [
    "import pandas as pd\n",
    "df = pd.read_csv(yhat)\n",
    "df.head()"
   ]
  }
 ],
 "metadata": {
  "kernelspec": {
   "display_name": "Python 3",
   "language": "python",
   "name": "python3"
  },
  "language_info": {
   "codemirror_mode": {
    "name": "ipython",
    "version": 3
   },
   "file_extension": ".py",
   "mimetype": "text/x-python",
   "name": "python",
   "nbconvert_exporter": "python",
   "pygments_lexer": "ipython3",
   "version": "3.7.2"
  }
 },
 "nbformat": 4,
 "nbformat_minor": 2
}
